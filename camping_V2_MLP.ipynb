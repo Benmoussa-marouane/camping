{
  "nbformat": 4,
  "nbformat_minor": 0,
  "metadata": {
    "kernelspec": {
      "display_name": "Python 3",
      "language": "python",
      "name": "python3"
    },
    "language_info": {
      "codemirror_mode": {
        "name": "ipython",
        "version": 3
      },
      "file_extension": ".py",
      "mimetype": "text/x-python",
      "name": "python",
      "nbconvert_exporter": "python",
      "pygments_lexer": "ipython3",
      "version": "3.6.5"
    },
    "colab": {
      "name": "camping V2 MLP.ipynb",
      "version": "0.3.2",
      "provenance": [],
      "collapsed_sections": [
        "dqPkQExM2Pwt",
        "LsaVrtNM3Tx5",
        "Zg8GoMZhLpGH",
        "z-EvK7hGL0d8",
        "RaKp8aEjKX6B",
        "lOxFimtlKruu",
        "7Y2VSELvwAvW",
        "2FQHVUnm_rjw"
      ],
      "machine_shape": "hm",
      "include_colab_link": true
    }
  },
  "cells": [
    {
      "cell_type": "markdown",
      "metadata": {
        "id": "view-in-github",
        "colab_type": "text"
      },
      "source": [
        "<a href=\"https://colab.research.google.com/github/Benmoussa-marouane/camping/blob/master/camping_V2_MLP.ipynb\" target=\"_parent\"><img src=\"https://colab.research.google.com/assets/colab-badge.svg\" alt=\"Open In Colab\"/></a>"
      ]
    },
    {
      "cell_type": "markdown",
      "metadata": {
        "id": "d3kI8wVwsimg",
        "colab_type": "text"
      },
      "source": [
        "#### import libraries"
      ]
    },
    {
      "cell_type": "code",
      "metadata": {
        "id": "LLIP5vCssimh",
        "colab_type": "code",
        "outputId": "91202d6d-9fe2-4fe9-ca56-a2652aa62f31",
        "colab": {
          "base_uri": "https://localhost:8080/",
          "height": 304
        }
      },
      "source": [
        "# Obviously\n",
        "import pandas as pd\n",
        "\n",
        "\n",
        "# !pip install xgboost\n",
        "import numpy as np \n",
        "\n",
        "# To build our pipeline\n",
        "from sklearn.preprocessing import OneHotEncoder\n",
        "from sklearn.compose import ColumnTransformer\n",
        "from sklearn.pipeline import Pipeline\n",
        "\n",
        "# !pip install impyute\n",
        "# from impyute.imputation.cs import mice\n",
        "\n",
        "from sklearn.compose import ColumnTransformer\n",
        "from sklearn.pipeline import Pipeline\n",
        "from sklearn.impute import SimpleImputer\n",
        "from sklearn.preprocessing import StandardScaler, OneHotEncoder\n",
        "from sklearn.linear_model import LogisticRegression\n",
        "from sklearn.model_selection import train_test_split, GridSearchCV\n",
        "\n",
        "# Other helpers\n",
        "from sklearn.metrics import accuracy_score, classification_report\n",
        "\n",
        "from __future__ import absolute_import, division, print_function, unicode_literals\n",
        "\n",
        "# TensorFlow and tf.keras\n",
        "import tensorflow as tf\n",
        "from tensorflow import keras\n",
        "\n",
        "# Helper libraries\n",
        "import numpy as np\n",
        "import matplotlib.pyplot as plt\n",
        "\n",
        "print(tf.__version__)\n",
        "\n",
        "\n",
        "!pip install category_encoders\n",
        "\n",
        "from category_encoders.target_encoder import TargetEncoder"
      ],
      "execution_count": 1,
      "outputs": [
        {
          "output_type": "stream",
          "text": [
            "1.14.0\n",
            "Collecting category_encoders\n",
            "\u001b[?25l  Downloading https://files.pythonhosted.org/packages/6e/a1/f7a22f144f33be78afeb06bfa78478e8284a64263a3c09b1ef54e673841e/category_encoders-2.0.0-py2.py3-none-any.whl (87kB)\n",
            "\u001b[K     |████████████████████████████████| 92kB 8.8MB/s \n",
            "\u001b[?25hRequirement already satisfied: scipy>=0.19.0 in /usr/local/lib/python3.6/dist-packages (from category_encoders) (1.3.1)\n",
            "Requirement already satisfied: pandas>=0.21.1 in /usr/local/lib/python3.6/dist-packages (from category_encoders) (0.24.2)\n",
            "Requirement already satisfied: scikit-learn>=0.20.0 in /usr/local/lib/python3.6/dist-packages (from category_encoders) (0.21.3)\n",
            "Requirement already satisfied: statsmodels>=0.6.1 in /usr/local/lib/python3.6/dist-packages (from category_encoders) (0.10.1)\n",
            "Requirement already satisfied: numpy>=1.11.3 in /usr/local/lib/python3.6/dist-packages (from category_encoders) (1.16.5)\n",
            "Requirement already satisfied: patsy>=0.4.1 in /usr/local/lib/python3.6/dist-packages (from category_encoders) (0.5.1)\n",
            "Requirement already satisfied: python-dateutil>=2.5.0 in /usr/local/lib/python3.6/dist-packages (from pandas>=0.21.1->category_encoders) (2.5.3)\n",
            "Requirement already satisfied: pytz>=2011k in /usr/local/lib/python3.6/dist-packages (from pandas>=0.21.1->category_encoders) (2018.9)\n",
            "Requirement already satisfied: joblib>=0.11 in /usr/local/lib/python3.6/dist-packages (from scikit-learn>=0.20.0->category_encoders) (0.13.2)\n",
            "Requirement already satisfied: six in /usr/local/lib/python3.6/dist-packages (from patsy>=0.4.1->category_encoders) (1.12.0)\n",
            "Installing collected packages: category-encoders\n",
            "Successfully installed category-encoders-2.0.0\n"
          ],
          "name": "stdout"
        }
      ]
    },
    {
      "cell_type": "code",
      "metadata": {
        "id": "jPvxJSOX3aJx",
        "colab_type": "code",
        "outputId": "87dfd968-e628-4985-81bf-27e7091e293c",
        "colab": {
          "base_uri": "https://localhost:8080/",
          "height": 50
        }
      },
      "source": [
        "# Importing the Keras libraries and packages\n",
        "import keras\n",
        "from keras.models import Sequential\n",
        "from keras.layers import Dense\n",
        "import tensorflow\n",
        "print(tensorflow.__version__)"
      ],
      "execution_count": 2,
      "outputs": [
        {
          "output_type": "stream",
          "text": [
            "1.14.0\n"
          ],
          "name": "stdout"
        },
        {
          "output_type": "stream",
          "text": [
            "Using TensorFlow backend.\n"
          ],
          "name": "stderr"
        }
      ]
    },
    {
      "cell_type": "code",
      "metadata": {
        "id": "2mqs38Y0soUI",
        "colab_type": "code",
        "outputId": "198b5254-d381-44cc-9415-f3a293c88225",
        "colab": {
          "base_uri": "https://localhost:8080/",
          "height": 137
        }
      },
      "source": [
        "from google.colab import drive\n",
        "drive.mount('/content/drive')\n",
        "\n",
        "import sys\n",
        "sys.path.append('/content/drive/My Drive/Colab Notebooks/Data scientist')\n",
        "\n",
        "!ls"
      ],
      "execution_count": 3,
      "outputs": [
        {
          "output_type": "stream",
          "text": [
            "Go to this URL in a browser: https://accounts.google.com/o/oauth2/auth?client_id=947318989803-6bn6qk8qdgf4n4g3pfee6491hc0brc4i.apps.googleusercontent.com&redirect_uri=urn%3Aietf%3Awg%3Aoauth%3A2.0%3Aoob&scope=email%20https%3A%2F%2Fwww.googleapis.com%2Fauth%2Fdocs.test%20https%3A%2F%2Fwww.googleapis.com%2Fauth%2Fdrive%20https%3A%2F%2Fwww.googleapis.com%2Fauth%2Fdrive.photos.readonly%20https%3A%2F%2Fwww.googleapis.com%2Fauth%2Fpeopleapi.readonly&response_type=code\n",
            "\n",
            "Enter your authorization code:\n",
            "··········\n",
            "Mounted at /content/drive\n",
            "drive  sample_data\n"
          ],
          "name": "stdout"
        }
      ]
    },
    {
      "cell_type": "markdown",
      "metadata": {
        "id": "Q-VLycIEsimk",
        "colab_type": "text"
      },
      "source": [
        "### The Dataset"
      ]
    },
    {
      "cell_type": "code",
      "metadata": {
        "id": "dDc2Zjz8simm",
        "colab_type": "code",
        "outputId": "016d79d1-0943-41b4-8df6-5afc4544be9c",
        "colab": {
          "base_uri": "https://localhost:8080/",
          "height": 1000
        }
      },
      "source": [
        "communes_df=pd.read_pickle('/content/drive/My Drive/Colab Notebooks/Data scientist/data/commune_scoring.pkl')\n",
        "# Separation Variables d'intérêts et variables explicatives\n",
        "print(communes_df.camping.value_counts())\n",
        "print(communes_df.info())"
      ],
      "execution_count": 4,
      "outputs": [
        {
          "output_type": "stream",
          "text": [
            "0    31610\n",
            "1     5067\n",
            "Name: camping, dtype: int64\n",
            "<class 'pandas.core.frame.DataFrame'>\n",
            "RangeIndex: 36677 entries, 0 to 36676\n",
            "Data columns (total 96 columns):\n",
            "codgeo                                                             36677 non-null object\n",
            "nb_pharmacies_et_parfumerie                                        36676 non-null float64\n",
            "dynamique_entrepreneuriale                                         36676 non-null float64\n",
            "dynamique_entrepreneuriale_service_et_commerce                     36676 non-null float64\n",
            "synergie_medicale_commune                                          36677 non-null int64\n",
            "orientation_economique                                             36677 non-null object\n",
            "indice_fiscal_partiel                                              36677 non-null float64\n",
            "score_fiscal                                                       36677 non-null float64\n",
            "indice_synergie_medicale                                           36677 non-null float64\n",
            "score_synergie_medicale                                            36677 non-null float64\n",
            "seg_croissance_pop                                                 36677 non-null object\n",
            "libgeo                                                             36677 non-null object\n",
            "reg                                                                36677 non-null int64\n",
            "dep                                                                36677 non-null object\n",
            "nb_omnipraticiens_bv                                               36677 non-null int64\n",
            "nb_infirmiers_liberaux_bv                                          36677 non-null int64\n",
            "nb_dentistes_liberaux_bv                                           36677 non-null int64\n",
            "nb_pharmaciens_liberaux_bv                                         36677 non-null int64\n",
            "densite_medicale_bv                                                36677 non-null float64\n",
            "score_equipement_de_sante_bv                                       36677 non-null int64\n",
            "indice_demographique                                               36677 non-null float64\n",
            "score_demographique                                                36677 non-null float64\n",
            "indice_menages                                                     36677 non-null float64\n",
            "score_menages                                                      36677 non-null float64\n",
            "population                                                         36677 non-null int64\n",
            "evolution_population                                               36677 non-null int64\n",
            "evolution_pop_                                                     36677 non-null int64\n",
            "nb_menages                                                         36677 non-null int64\n",
            "nb_residences_principales                                          36677 non-null int64\n",
            "nb_proprietaire                                                    36677 non-null int64\n",
            "nb_logement                                                        36677 non-null int64\n",
            "nb_residences_secondaires                                          36677 non-null int64\n",
            "nb_log_vacants                                                     36677 non-null int64\n",
            "nb_occupants_residence_principale                                  36677 non-null int64\n",
            "nb_femme                                                           36677 non-null int64\n",
            "nb_homme                                                           36677 non-null int64\n",
            "nb_mineurs                                                         36677 non-null int64\n",
            "nb_majeurs                                                         36677 non-null int64\n",
            "nb_etudiants                                                       36677 non-null int64\n",
            "nb_entreprises_secteur_services                                    36676 non-null float64\n",
            "nb_entreprises_secteur_commerce                                    36676 non-null float64\n",
            "nb_entreprises_secteur_construction                                36676 non-null float64\n",
            "nb_entreprises_secteur_industrie                                   36676 non-null float64\n",
            "nb_creation_enteprises                                             36676 non-null float64\n",
            "nb_creation_industrielles                                          36676 non-null float64\n",
            "nb_creation_construction                                           36676 non-null float64\n",
            "nb_creation_commerces                                              36676 non-null float64\n",
            "nb_creation_services                                               36676 non-null float64\n",
            "moyenne_revenus_fiscaux_departementaux                             36677 non-null int64\n",
            "moyenne_revenus_fiscaux_regionaux                                  36677 non-null int64\n",
            "dep_moyenne_salaires_horaires                                      36677 non-null float64\n",
            "dep_moyenne_salaires_cadre_horaires                                36677 non-null float64\n",
            "dep_moyenne_salaires_prof_intermediaire_horaires                   36677 non-null float64\n",
            "dep_moyenne_salaires_employe_horaires                              36677 non-null float64\n",
            "dep_moyenne_salaires_ouvrie_horaires                               36677 non-null float64\n",
            "reg_moyenne_salaires_horaires                                      36677 non-null float64\n",
            "reg_moyenne_salaires_cadre_horaires                                36677 non-null float64\n",
            "reg_moyenne_salaires_prof_intermediaire_horaires                   36677 non-null float64\n",
            "reg_moyenne_salaires_employe_horaires                              36677 non-null float64\n",
            "reg_moyenne_salaires_ouvrie_horaires                               36677 non-null float64\n",
            "valeur_ajoutee_regionale                                           36677 non-null float64\n",
            "urbanite_ruralite                                                  36677 non-null object\n",
            "score_urbanite                                                     36677 non-null float64\n",
            "nb_atifs                                                           36662 non-null float64\n",
            "nb_actifs_salaries                                                 36662 non-null float64\n",
            "nb_actifs_non_salaries                                             36662 non-null float64\n",
            "nb_logement_secondaire_et_occasionnel                              36565 non-null float64\n",
            "nb_hotel                                                           36565 non-null float64\n",
            "capacite_hotel                                                     36565 non-null float64\n",
            "dynamique_demographique_bv                                         36677 non-null object\n",
            "taux_etudiants                                                     36677 non-null int64\n",
            "taux_propriete                                                     36677 non-null int64\n",
            "dynamique_demographique_insee                                      36677 non-null int64\n",
            "capacite_fisc                                                      36677 non-null int64\n",
            "capacite_fiscale                                                   36677 non-null int64\n",
            "moyenne_revnus_fiscaux                                             36677 non-null float64\n",
            "nb_education_sante_action_sociale                                  36676 non-null float64\n",
            "nb_services_personnels_et_domestiques                              36676 non-null float64\n",
            "nb_sante_action_sociale                                            36676 non-null float64\n",
            "nb_industries_des_biens_intermediaires                             36677 non-null int64\n",
            "nb_de_commerce                                                     36677 non-null int64\n",
            "nb_de_services_aux_particuliers                                    36677 non-null int64\n",
            "nb_institution_de_education_sante_action_sociale_administration    36677 non-null int64\n",
            "pib_regionnal                                                      36677 non-null int64\n",
            "seg_environnement_demographique_obsolete                           36677 non-null object\n",
            "score_croissance_population                                        36677 non-null float64\n",
            "score_croissance_entrepreneuriale                                  36676 non-null float64\n",
            "score_va_region                                                    36677 non-null float64\n",
            "score_pib                                                          36677 non-null float64\n",
            "environnement_demographique                                        36677 non-null object\n",
            "syn_medical                                                        36677 non-null object\n",
            "seg_cap_fiscale                                                    36677 non-null object\n",
            "seg_dyn_entre                                                      36676 non-null object\n",
            "dyn_setc                                                           36676 non-null object\n",
            "cp                                                                 36677 non-null object\n",
            "camping                                                            36677 non-null int64\n",
            "dtypes: float64(47), int64(35), object(14)\n",
            "memory usage: 26.9+ MB\n",
            "None\n"
          ],
          "name": "stdout"
        }
      ]
    },
    {
      "cell_type": "markdown",
      "metadata": {
        "id": "KBYnsloFwAP3",
        "colab_type": "text"
      },
      "source": [
        "### keep in mind data in unbalanced we need to pick carefully good evaluation metric, maybe even oversampling..\n"
      ]
    },
    {
      "cell_type": "code",
      "metadata": {
        "id": "-E6ttuA2simq",
        "colab_type": "code",
        "outputId": "b64bb724-61a0-447f-c5dd-aa46bf9f8bf9",
        "colab": {
          "base_uri": "https://localhost:8080/",
          "height": 33
        }
      },
      "source": [
        "dff = communes_df.select_dtypes(exclude=[\"number\",\"bool\"])\n",
        "df_categorical = dff.assign(score_equipement_de_sante_bv=communes_df['score_equipement_de_sante_bv'])\n",
        "df_categorical = df_categorical.fillna(df_categorical.mode().iloc[0]) # impute missing data using Mode or most frequent For categorical data \n",
        "# df_categorical = df_categorical.str.strip()\n",
        "\n",
        "string_features = ['orientation_economique','seg_croissance_pop','libgeo','urbanite_ruralite','dynamique_demographique_bv',\n",
        "                   'seg_environnement_demographique_obsolete','environnement_demographique'\n",
        "                  ,'syn_medical','seg_cap_fiscale','seg_dyn_entre','dyn_setc']\n",
        "\n",
        "# for fe in string_features:\n",
        "#     df_categorical[fe] = df_categorical[fe].map(lambda x: \"\".join(w.strip() for w in x))\n",
        "\n",
        "\n",
        "\n",
        "##############################\n",
        "\n",
        "numerics = ['int16', 'int32', 'int64', 'float16', 'float32', 'float64']\n",
        "X_incomplete = communes_df.select_dtypes(include=numerics).astype(float)\n",
        "df_numeric = X_incomplete[X_incomplete.columns.difference(['score_equipement_de_sante_bv'])]### score_equipment_de_sante  is categorical\n",
        "\n",
        "print(len(X_incomplete))"
      ],
      "execution_count": 5,
      "outputs": [
        {
          "output_type": "stream",
          "text": [
            "36677\n"
          ],
          "name": "stdout"
        }
      ]
    },
    {
      "cell_type": "code",
      "metadata": {
        "id": "yWkO5Ww2kCYl",
        "colab_type": "code",
        "outputId": "03648356-bf51-4941-bc96-6355e8158dbf",
        "colab": {
          "base_uri": "https://localhost:8080/",
          "height": 686
        }
      },
      "source": [
        "df_numeric.columns"
      ],
      "execution_count": 6,
      "outputs": [
        {
          "output_type": "execute_result",
          "data": {
            "text/plain": [
              "Index(['camping', 'capacite_fisc', 'capacite_fiscale', 'capacite_hotel',\n",
              "       'densite_medicale_bv', 'dep_moyenne_salaires_cadre_horaires',\n",
              "       'dep_moyenne_salaires_employe_horaires',\n",
              "       'dep_moyenne_salaires_horaires', 'dep_moyenne_salaires_ouvrie_horaires',\n",
              "       'dep_moyenne_salaires_prof_intermediaire_horaires',\n",
              "       'dynamique_demographique_insee', 'dynamique_entrepreneuriale',\n",
              "       'dynamique_entrepreneuriale_service_et_commerce', 'evolution_pop_',\n",
              "       'evolution_population', 'indice_demographique', 'indice_fiscal_partiel',\n",
              "       'indice_menages', 'indice_synergie_medicale',\n",
              "       'moyenne_revenus_fiscaux_departementaux',\n",
              "       'moyenne_revenus_fiscaux_regionaux', 'moyenne_revnus_fiscaux',\n",
              "       'nb_actifs_non_salaries', 'nb_actifs_salaries', 'nb_atifs',\n",
              "       'nb_creation_commerces', 'nb_creation_construction',\n",
              "       'nb_creation_enteprises', 'nb_creation_industrielles',\n",
              "       'nb_creation_services', 'nb_de_commerce',\n",
              "       'nb_de_services_aux_particuliers', 'nb_dentistes_liberaux_bv',\n",
              "       'nb_education_sante_action_sociale', 'nb_entreprises_secteur_commerce',\n",
              "       'nb_entreprises_secteur_construction',\n",
              "       'nb_entreprises_secteur_industrie', 'nb_entreprises_secteur_services',\n",
              "       'nb_etudiants', 'nb_femme', 'nb_homme', 'nb_hotel',\n",
              "       'nb_industries_des_biens_intermediaires', 'nb_infirmiers_liberaux_bv',\n",
              "       'nb_institution_de_education_sante_action_sociale_administration',\n",
              "       'nb_log_vacants', 'nb_logement',\n",
              "       'nb_logement_secondaire_et_occasionnel', 'nb_majeurs', 'nb_menages',\n",
              "       'nb_mineurs', 'nb_occupants_residence_principale',\n",
              "       'nb_omnipraticiens_bv', 'nb_pharmaciens_liberaux_bv',\n",
              "       'nb_pharmacies_et_parfumerie', 'nb_proprietaire',\n",
              "       'nb_residences_principales', 'nb_residences_secondaires',\n",
              "       'nb_sante_action_sociale', 'nb_services_personnels_et_domestiques',\n",
              "       'pib_regionnal', 'population', 'reg',\n",
              "       'reg_moyenne_salaires_cadre_horaires',\n",
              "       'reg_moyenne_salaires_employe_horaires',\n",
              "       'reg_moyenne_salaires_horaires', 'reg_moyenne_salaires_ouvrie_horaires',\n",
              "       'reg_moyenne_salaires_prof_intermediaire_horaires',\n",
              "       'score_croissance_entrepreneuriale', 'score_croissance_population',\n",
              "       'score_demographique', 'score_fiscal', 'score_menages', 'score_pib',\n",
              "       'score_synergie_medicale', 'score_urbanite', 'score_va_region',\n",
              "       'synergie_medicale_commune', 'taux_etudiants', 'taux_propriete',\n",
              "       'valeur_ajoutee_regionale'],\n",
              "      dtype='object')"
            ]
          },
          "metadata": {
            "tags": []
          },
          "execution_count": 6
        }
      ]
    },
    {
      "cell_type": "code",
      "metadata": {
        "id": "OjjFFQUasimu",
        "colab_type": "code",
        "colab": {}
      },
      "source": [
        "for f in df_numeric.columns:\n",
        "  X_incomplete[f].fillna((X_incomplete[f].mean()), inplace=True)"
      ],
      "execution_count": 0,
      "outputs": []
    },
    {
      "cell_type": "code",
      "metadata": {
        "id": "4QL4inWCiSmQ",
        "colab_type": "code",
        "outputId": "ee15c175-6fb6-42f8-9b4c-90f2338470a0",
        "colab": {
          "base_uri": "https://localhost:8080/",
          "height": 50
        }
      },
      "source": [
        "![categorical_dist](https://drive.google.com/file/d/1CKOwndhp47xm0sAxLe8EkYaiyhAe77zL/view?usp=sharing)"
      ],
      "execution_count": 8,
      "outputs": [
        {
          "output_type": "stream",
          "text": [
            "/bin/bash: -c: line 0: syntax error near unexpected token `https://drive.google.com/file/d/1CKOwndhp47xm0sAxLe8EkYaiyhAe77zL/view?usp=sharing'\n",
            "/bin/bash: -c: line 0: `[categorical_dist](https://drive.google.com/file/d/1CKOwndhp47xm0sAxLe8EkYaiyhAe77zL/view?usp=sharing)'\n"
          ],
          "name": "stdout"
        }
      ]
    },
    {
      "cell_type": "code",
      "metadata": {
        "id": "Xo1OJ_sF7afA",
        "colab_type": "code",
        "colab": {}
      },
      "source": [
        "# Source: https://maxhalford.github.io/blog/target-encoding-done-the-right-way/\n",
        "def calc_smooth_mean(df1, cat_name, target, weight):\n",
        "    # Compute the global mean\n",
        "    mean = communes_df[target].mean()\n",
        "\n",
        "    # Compute the number of values and the mean of each group\n",
        "    agg = communes_df.groupby(cat_name)[target].agg(['count', 'mean'])\n",
        "    counts = agg['count']\n",
        "    means = agg['mean']\n",
        "\n",
        "    # Compute the \"smoothed\" means\n",
        "    smooth = (counts * means + weight * mean) / (counts + weight)\n",
        "\n",
        "    return df1[cat_name].map(smooth)"
      ],
      "execution_count": 0,
      "outputs": []
    },
    {
      "cell_type": "markdown",
      "metadata": {
        "id": "XFPwDJUIBLgV",
        "colab_type": "text"
      },
      "source": [
        "**Feature** 'codgeo' has 36677 unique categories note good idea to use target encoding\n",
        "\n",
        "Feature 'libgeo' has 34125 unique categories\n",
        "\n",
        "Feature 'dep' has 100 unique categories\n",
        "\n",
        "Feature 'cp' has 100 unique categories"
      ]
    },
    {
      "cell_type": "code",
      "metadata": {
        "id": "fFVAeLDA7ntw",
        "colab_type": "code",
        "colab": {}
      },
      "source": [
        "WEIGHT = 300\n",
        "df_categorical['codgeo'] = calc_smooth_mean(df1=communes_df, cat_name='codgeo', target='camping', weight=WEIGHT).astype('category')\n",
        "df_categorical['libgeo'] = calc_smooth_mean(df1=communes_df, cat_name='libgeo', target='camping', weight=WEIGHT).astype('category')\n",
        "df_categorical['dep'] = calc_smooth_mean(df1=communes_df, cat_name='dep', target='camping', weight=WEIGHT).astype('category')\n",
        "df_categorical['cp'] = calc_smooth_mean(df1=communes_df, cat_name='cp', target='camping', weight=WEIGHT).astype('category')"
      ],
      "execution_count": 0,
      "outputs": []
    },
    {
      "cell_type": "code",
      "metadata": {
        "id": "m1DNNQ9qY3Ej",
        "colab_type": "code",
        "outputId": "e4d2753f-3fe5-4678-ec3c-1cb2c1d42a8c",
        "colab": {
          "base_uri": "https://localhost:8080/",
          "height": 196
        }
      },
      "source": [
        "#0.137693\t0.137693\t0.0883396\t0.0883396\n",
        "#\n",
        "#\n",
        "\n",
        "df_categorical[['codgeo','libgeo','dep','cp']].head()"
      ],
      "execution_count": 11,
      "outputs": [
        {
          "output_type": "execute_result",
          "data": {
            "text/html": [
              "<div>\n",
              "<style scoped>\n",
              "    .dataframe tbody tr th:only-of-type {\n",
              "        vertical-align: middle;\n",
              "    }\n",
              "\n",
              "    .dataframe tbody tr th {\n",
              "        vertical-align: top;\n",
              "    }\n",
              "\n",
              "    .dataframe thead th {\n",
              "        text-align: right;\n",
              "    }\n",
              "</style>\n",
              "<table border=\"1\" class=\"dataframe\">\n",
              "  <thead>\n",
              "    <tr style=\"text-align: right;\">\n",
              "      <th></th>\n",
              "      <th>codgeo</th>\n",
              "      <th>libgeo</th>\n",
              "      <th>dep</th>\n",
              "      <th>cp</th>\n",
              "    </tr>\n",
              "  </thead>\n",
              "  <tbody>\n",
              "    <tr>\n",
              "      <th>0</th>\n",
              "      <td>0.137693</td>\n",
              "      <td>0.137693</td>\n",
              "      <td>0.143874</td>\n",
              "      <td>0.143874</td>\n",
              "    </tr>\n",
              "    <tr>\n",
              "      <th>1</th>\n",
              "      <td>0.137693</td>\n",
              "      <td>0.137693</td>\n",
              "      <td>0.143874</td>\n",
              "      <td>0.143874</td>\n",
              "    </tr>\n",
              "    <tr>\n",
              "      <th>2</th>\n",
              "      <td>0.137693</td>\n",
              "      <td>0.137693</td>\n",
              "      <td>0.143874</td>\n",
              "      <td>0.143874</td>\n",
              "    </tr>\n",
              "    <tr>\n",
              "      <th>3</th>\n",
              "      <td>0.141015</td>\n",
              "      <td>0.141015</td>\n",
              "      <td>0.143874</td>\n",
              "      <td>0.143874</td>\n",
              "    </tr>\n",
              "    <tr>\n",
              "      <th>4</th>\n",
              "      <td>0.137693</td>\n",
              "      <td>0.137693</td>\n",
              "      <td>0.143874</td>\n",
              "      <td>0.143874</td>\n",
              "    </tr>\n",
              "  </tbody>\n",
              "</table>\n",
              "</div>"
            ],
            "text/plain": [
              "     codgeo    libgeo       dep        cp\n",
              "0  0.137693  0.137693  0.143874  0.143874\n",
              "1  0.137693  0.137693  0.143874  0.143874\n",
              "2  0.137693  0.137693  0.143874  0.143874\n",
              "3  0.141015  0.141015  0.143874  0.143874\n",
              "4  0.137693  0.137693  0.143874  0.143874"
            ]
          },
          "metadata": {
            "tags": []
          },
          "execution_count": 11
        }
      ]
    },
    {
      "cell_type": "code",
      "metadata": {
        "id": "zFveHBLKQ8AD",
        "colab_type": "code",
        "outputId": "7d30ac8c-e2ba-4109-e199-ce43d43f5ef2",
        "colab": {
          "base_uri": "https://localhost:8080/",
          "height": 268
        }
      },
      "source": [
        "# Decide which categorical variables you want to use in model\n",
        "for col_name in df_categorical.columns:\n",
        "#     if df_numeric[col_name].dtypes == 'object':\n",
        "      unique_cat = len(df_categorical[col_name].unique())\n",
        "      print(\"Feature '{col_name}' has {unique_cat} unique categories\".format(col_name=col_name, unique_cat=unique_cat))"
      ],
      "execution_count": 12,
      "outputs": [
        {
          "output_type": "stream",
          "text": [
            "Feature 'codgeo' has 2 unique categories\n",
            "Feature 'orientation_economique' has 5 unique categories\n",
            "Feature 'seg_croissance_pop' has 2 unique categories\n",
            "Feature 'libgeo' has 35 unique categories\n",
            "Feature 'dep' has 99 unique categories\n",
            "Feature 'urbanite_ruralite' has 6 unique categories\n",
            "Feature 'dynamique_demographique_bv' has 7 unique categories\n",
            "Feature 'seg_environnement_demographique_obsolete' has 8 unique categories\n",
            "Feature 'environnement_demographique' has 7 unique categories\n",
            "Feature 'syn_medical' has 3 unique categories\n",
            "Feature 'seg_cap_fiscale' has 3 unique categories\n",
            "Feature 'seg_dyn_entre' has 3 unique categories\n",
            "Feature 'dyn_setc' has 3 unique categories\n",
            "Feature 'cp' has 99 unique categories\n",
            "Feature 'score_equipement_de_sante_bv' has 5 unique categories\n"
          ],
          "name": "stdout"
        }
      ]
    },
    {
      "cell_type": "code",
      "metadata": {
        "id": "S0AWLp2YRP8H",
        "colab_type": "code",
        "outputId": "01e0b3c4-0385-49f0-db89-61cd90214932",
        "colab": {
          "base_uri": "https://localhost:8080/",
          "height": 134
        }
      },
      "source": [
        "df_categorical['urbanite_ruralite'].value_counts()"
      ],
      "execution_count": 13,
      "outputs": [
        {
          "output_type": "execute_result",
          "data": {
            "text/plain": [
              "Com rurale < 2 000 m habts    30052\n",
              "Com < 10 m habts               2505\n",
              "Com > 200 m habts              1369\n",
              "Com < 50 m habts               1325\n",
              "Com < 200 m habts               836\n",
              "Com rurale > 2 000 habts        590\n",
              "Name: urbanite_ruralite, dtype: int64"
            ]
          },
          "metadata": {
            "tags": []
          },
          "execution_count": 13
        }
      ]
    },
    {
      "cell_type": "code",
      "metadata": {
        "id": "NWnkoMuGR0Ld",
        "colab_type": "code",
        "outputId": "a56c038b-5ca1-4a22-a56a-a233b0c59a6b",
        "colab": {
          "base_uri": "https://localhost:8080/",
          "height": 67
        }
      },
      "source": [
        "# In this case, bucket low frequecy categories as \"Other\"\n",
        "df_categorical['urbanite_ruralite'] = ['Com rurale < 2 000 m habts ' if x == 'Com rurale < 2 000 m habts' else 'Other' for x in df_categorical['urbanite_ruralite']]\n",
        "\n",
        "print(df_categorical['urbanite_ruralite'].value_counts().sort_values(ascending=False))"
      ],
      "execution_count": 14,
      "outputs": [
        {
          "output_type": "stream",
          "text": [
            "Com rurale < 2 000 m habts     30052\n",
            "Other                           6625\n",
            "Name: urbanite_ruralite, dtype: int64\n"
          ],
          "name": "stdout"
        }
      ]
    },
    {
      "cell_type": "code",
      "metadata": {
        "id": "4ijlA9r2TwBG",
        "colab_type": "code",
        "outputId": "ff19fef9-6862-4596-c661-853edcb72ca2",
        "colab": {
          "base_uri": "https://localhost:8080/",
          "height": 84
        }
      },
      "source": [
        "df_categorical['seg_cap_fiscale'].value_counts() "
      ],
      "execution_count": 15,
      "outputs": [
        {
          "output_type": "execute_result",
          "data": {
            "text/plain": [
              "Fiscalité moyenne    28780\n",
              "Fiscalité faible      6628\n",
              "Fiscalité élevée      1269\n",
              "Name: seg_cap_fiscale, dtype: int64"
            ]
          },
          "metadata": {
            "tags": []
          },
          "execution_count": 15
        }
      ]
    },
    {
      "cell_type": "code",
      "metadata": {
        "id": "yhHrTuDwTaRC",
        "colab_type": "code",
        "outputId": "5dff0f1e-7d2f-41a6-cf57-c6a3ee464a40",
        "colab": {
          "base_uri": "https://localhost:8080/",
          "height": 67
        }
      },
      "source": [
        "# In this case, bucket low frequecy categories as \"Other\"\n",
        "df_categorical['seg_cap_fiscale'] = ['Fiscalité moyenne' if x == 'Fiscalité moyenne' else 'Other' for x in df_categorical['seg_cap_fiscale']]\n",
        "\n",
        "print(df_categorical['seg_cap_fiscale'].value_counts().sort_values(ascending=False))"
      ],
      "execution_count": 16,
      "outputs": [
        {
          "output_type": "stream",
          "text": [
            "Fiscalité moyenne    28780\n",
            "Other                 7897\n",
            "Name: seg_cap_fiscale, dtype: int64\n"
          ],
          "name": "stdout"
        }
      ]
    },
    {
      "cell_type": "code",
      "metadata": {
        "id": "CmsdXNosUE25",
        "colab_type": "code",
        "outputId": "92594c1d-73b1-4cc5-db67-4d1fff7297fc",
        "colab": {
          "base_uri": "https://localhost:8080/",
          "height": 84
        }
      },
      "source": [
        "df_categorical['syn_medical'].value_counts()"
      ],
      "execution_count": 17,
      "outputs": [
        {
          "output_type": "execute_result",
          "data": {
            "text/plain": [
              "Faible Synergie Médicale    24669\n",
              "Forte Synergie Médicale      6048\n",
              "Synergie Médicale            5960\n",
              "Name: syn_medical, dtype: int64"
            ]
          },
          "metadata": {
            "tags": []
          },
          "execution_count": 17
        }
      ]
    },
    {
      "cell_type": "code",
      "metadata": {
        "id": "rhH7WympUjFi",
        "colab_type": "code",
        "outputId": "74703f1c-47d9-4f4e-f6ba-12b8878a8037",
        "colab": {
          "base_uri": "https://localhost:8080/",
          "height": 67
        }
      },
      "source": [
        "# In this case, bucket low frequecy categories as \"Other\"\n",
        "df_categorical['syn_medical'] = ['Faible Synergie Médicale' if x == 'Faible Synergie Médicale' else 'Other' for x in df_categorical['syn_medical']]\n",
        "\n",
        "print(df_categorical['syn_medical'].value_counts().sort_values(ascending=False))"
      ],
      "execution_count": 18,
      "outputs": [
        {
          "output_type": "stream",
          "text": [
            "Faible Synergie Médicale    24669\n",
            "Other                       12008\n",
            "Name: syn_medical, dtype: int64\n"
          ],
          "name": "stdout"
        }
      ]
    },
    {
      "cell_type": "code",
      "metadata": {
        "id": "E-jdUpIhUjXg",
        "colab_type": "code",
        "outputId": "af57d150-0202-42e1-ab76-965b5561678e",
        "colab": {
          "base_uri": "https://localhost:8080/",
          "height": 84
        }
      },
      "source": [
        "df_categorical['seg_dyn_entre'].value_counts()"
      ],
      "execution_count": 19,
      "outputs": [
        {
          "output_type": "execute_result",
          "data": {
            "text/plain": [
              "Faible dynamique        30187\n",
              "Dynamique Economique     5059\n",
              "Moyenne dynamique        1431\n",
              "Name: seg_dyn_entre, dtype: int64"
            ]
          },
          "metadata": {
            "tags": []
          },
          "execution_count": 19
        }
      ]
    },
    {
      "cell_type": "code",
      "metadata": {
        "id": "dha-kI_6Ujaf",
        "colab_type": "code",
        "outputId": "af501f59-bd5c-42e0-e018-1c7e3f28b3a9",
        "colab": {
          "base_uri": "https://localhost:8080/",
          "height": 67
        }
      },
      "source": [
        "# In this case, bucket low frequecy categories as \"Other\"\n",
        "df_categorical['seg_dyn_entre'] = ['Faible dynamique' if x == 'Faible dynamique' else 'Other' for x in df_categorical['seg_dyn_entre']]\n",
        "\n",
        "print(df_categorical['seg_dyn_entre'].value_counts().sort_values(ascending=False))"
      ],
      "execution_count": 20,
      "outputs": [
        {
          "output_type": "stream",
          "text": [
            "Faible dynamique    30187\n",
            "Other                6490\n",
            "Name: seg_dyn_entre, dtype: int64\n"
          ],
          "name": "stdout"
        }
      ]
    },
    {
      "cell_type": "code",
      "metadata": {
        "id": "trQqQlaTUjdn",
        "colab_type": "code",
        "outputId": "96a825f4-d6ed-4568-a4e5-44bd396ed722",
        "colab": {
          "base_uri": "https://localhost:8080/",
          "height": 84
        }
      },
      "source": [
        "df_categorical.dyn_setc.value_counts()"
      ],
      "execution_count": 21,
      "outputs": [
        {
          "output_type": "execute_result",
          "data": {
            "text/plain": [
              "Faible Dynamique Serv et Com              31916\n",
              "Bonne Dynamique Entreprise Serv et Com     3788\n",
              "Dynamique Serv et Com                       973\n",
              "Name: dyn_setc, dtype: int64"
            ]
          },
          "metadata": {
            "tags": []
          },
          "execution_count": 21
        }
      ]
    },
    {
      "cell_type": "code",
      "metadata": {
        "id": "GXa6Ua9tVvsF",
        "colab_type": "code",
        "outputId": "94480ec4-1441-4a3e-ccc5-526b1572a99c",
        "colab": {
          "base_uri": "https://localhost:8080/",
          "height": 67
        }
      },
      "source": [
        "# In this case, bucket low frequecy categories as \"Other\"\n",
        "df_categorical['dyn_setc'] = ['Faible Dynamique Serv et Com' if x == 'Faible Dynamique Serv et Com' else 'Other' for x in df_categorical['dyn_setc']]\n",
        "\n",
        "print(df_categorical['dyn_setc'].value_counts().sort_values(ascending=False))"
      ],
      "execution_count": 22,
      "outputs": [
        {
          "output_type": "stream",
          "text": [
            "Faible Dynamique Serv et Com    31916\n",
            "Other                            4761\n",
            "Name: dyn_setc, dtype: int64\n"
          ],
          "name": "stdout"
        }
      ]
    },
    {
      "cell_type": "code",
      "metadata": {
        "id": "JV3-PF5rWIK5",
        "colab_type": "code",
        "colab": {}
      },
      "source": [
        "# df_categorical.seg_environnement_demographique_obsolete.value_counts()"
      ],
      "execution_count": 0,
      "outputs": []
    },
    {
      "cell_type": "code",
      "metadata": {
        "id": "bkEAD8NVWITj",
        "colab_type": "code",
        "colab": {}
      },
      "source": [
        "# # In this case, bucket low frequecy categories as \"Other\"\n",
        "# for x in df_categorical['seg_environnement_demographique_obsolete'] :\n",
        "  \n",
        "#     if x is 'Zone rurale en croissance démographique':  \n",
        "#         df_categorical['seg_environnement_demographique_obsolete'] = 'Zone rurale en croissance démographique'\n",
        "    \n",
        "#     elif x is 'Zone rurale en déclin démographique':  \n",
        "#         df_categorical['seg_environnement_demographique_obsolete'] = 'Zone rurale en déclin démographique'\n",
        "    \n",
        "#     else:\n",
        "#         df_categorical['seg_environnement_demographique_obsolete'] = 'other'\n",
        "        \n",
        "        \n",
        "    \n",
        "# print(df_categorical['seg_environnement_demographique_obsolete'].value_counts().sort_values(ascending=False))"
      ],
      "execution_count": 0,
      "outputs": []
    },
    {
      "cell_type": "code",
      "metadata": {
        "id": "-KxpuZoORF1_",
        "colab_type": "code",
        "outputId": "4313265c-c5b8-46bd-85e1-c519b854ed1d",
        "colab": {
          "base_uri": "https://localhost:8080/",
          "height": 1000
        }
      },
      "source": [
        "for c in df_categorical.columns:\n",
        "  print(df_categorical[c].value_counts().sort_values(ascending=False).head(10))\n",
        "  print()\n",
        " "
      ],
      "execution_count": 25,
      "outputs": [
        {
          "output_type": "stream",
          "text": [
            "0.137693    31610\n",
            "0.141015     5067\n",
            "Name: codgeo, dtype: int64\n",
            "\n",
            "Bassin Résidentiel         16870\n",
            "Bassin Urbain               8671\n",
            "Bassin Industriel           7122\n",
            "Bassins Agroalimentaire     2564\n",
            "Bassin diversifié           1450\n",
            "Name: orientation_economique, dtype: int64\n",
            "\n",
            "en croissance démographique    36666\n",
            "en déclin démographique           11\n",
            "Name: seg_croissance_pop, dtype: int64\n",
            "\n",
            "0.137693    27899\n",
            "0.141015     4613\n",
            "0.137237     1824\n",
            "0.136784      558\n",
            "0.140548      446\n",
            "0.136334      244\n",
            "0.140084      162\n",
            "0.135887      150\n",
            "0.139624      116\n",
            "0.135443       66\n",
            "Name: libgeo, dtype: int64\n",
            "\n",
            "0.149452    894\n",
            "0.082463    866\n",
            "0.063123    816\n",
            "0.107621    782\n",
            "0.095163    745\n",
            "0.072277    730\n",
            "0.082866    707\n",
            "0.104817    706\n",
            "0.064900    693\n",
            "0.076354    675\n",
            "Name: dep, dtype: int64\n",
            "\n",
            "Com rurale < 2 000 m habts     30052\n",
            "Other                           6625\n",
            "Name: urbanite_ruralite, dtype: int64\n",
            "\n",
            "Grande Ville                                          8671\n",
            "1.Accroissement par excédent naturel et migratoire    7677\n",
            "3.Accroissement par excédent migratoire               6037\n",
            "5.Déclin par déficit naturel                          4711\n",
            "4.Déclin par déficit naturel et migratoire            3680\n",
            "6.Déclin par déficit migratoire                       3438\n",
            "2.Accroissement par excédent naturel                  2463\n",
            "Name: dynamique_demographique_bv, dtype: int64\n",
            "\n",
            "Zone rurale en croissance démographique                   16177\n",
            "Zone rurale en déclin démographique                       11829\n",
            "Com rurale < 2 000 m habts en croissance démographique     5488\n",
            "Com > 200 m habts en croissance démographique              1369\n",
            "Com < 200 m habts en croissance démographique               836\n",
            "Com < 10 m habts en croissance démographique                430\n",
            "Com < 50 m habts en croissance démographique                354\n",
            "Com rurale > 2 000 habts en croissance démographique        194\n",
            "Name: seg_environnement_demographique_obsolete, dtype: int64\n",
            "\n",
            "Bassin Résidentiel en croissance démographique         16860\n",
            "Bassin Urbain en croissance démographique               8671\n",
            "Bassin Industriel en croissance démographique           7122\n",
            "Bassins Agroalimentaire en croissance démographique     2564\n",
            "Bassin diversifié en croissance démographique           1449\n",
            "Bassin Résidentiel en déclin démographique                10\n",
            "Bassin diversifié en déclin démographique                  1\n",
            "Name: environnement_demographique, dtype: int64\n",
            "\n",
            "Faible Synergie Médicale    24669\n",
            "Other                       12008\n",
            "Name: syn_medical, dtype: int64\n",
            "\n",
            "Fiscalité moyenne    28780\n",
            "Other                 7897\n",
            "Name: seg_cap_fiscale, dtype: int64\n",
            "\n",
            "Faible dynamique    30187\n",
            "Other                6490\n",
            "Name: seg_dyn_entre, dtype: int64\n",
            "\n",
            "Faible Dynamique Serv et Com    31916\n",
            "Other                            4761\n",
            "Name: dyn_setc, dtype: int64\n",
            "\n",
            "0.149452    894\n",
            "0.082463    866\n",
            "0.063123    816\n",
            "0.107621    782\n",
            "0.095163    745\n",
            "0.072277    730\n",
            "0.082866    707\n",
            "0.104817    706\n",
            "0.064900    693\n",
            "0.076354    675\n",
            "Name: cp, dtype: int64\n",
            "\n",
            "4    13119\n",
            "1    11340\n",
            "3     6405\n",
            "2     4840\n",
            "0      973\n",
            "Name: score_equipement_de_sante_bv, dtype: int64\n",
            "\n"
          ],
          "name": "stdout"
        }
      ]
    },
    {
      "cell_type": "markdown",
      "metadata": {
        "id": "MXXG9CQ9simy",
        "colab_type": "text"
      },
      "source": [
        "##pipeline\n"
      ]
    },
    {
      "cell_type": "markdown",
      "metadata": {
        "id": "LlgphDYTsimz",
        "colab_type": "text"
      },
      "source": [
        "We'll define a new `ColumnTransformer` object that keeps our numerical features and apply one hot encoding on our categorical features. \n",
        "\n",
        "That will allow us to create a clean pipeline that includes both features engineering (one hot encoding here) and training the model (a nice way to avoid data leakage)"
      ]
    },
    {
      "cell_type": "code",
      "metadata": {
        "id": "KtmDROWT8aBN",
        "colab_type": "code",
        "colab": {}
      },
      "source": [
        "numeric_features =list(df_numeric)\n",
        "numeric_features.remove('camping')\n",
        "\n",
        "categorical_features =list(df_categorical)\n",
        "\n",
        "te_features = ['codgeo','libgeo','dep','cp']\n",
        "\n",
        "\n",
        "for i in te_features:\n",
        "  categorical_features.remove(i)\n",
        " \n",
        "\n",
        "\n",
        "numeric_transformer = Pipeline(steps=[\n",
        "    ('imputer', SimpleImputer(strategy='median')),\n",
        "    ('scaler', StandardScaler())])\n",
        "\n",
        "\n",
        "                                 \n",
        "categorical_transformer = Pipeline(steps=[\n",
        "    ('imputer', SimpleImputer(strategy='constant', fill_value='missing')),\n",
        "    ('onehot', OneHotEncoder(handle_unknown='ignore'))\n",
        "         ])\n",
        "\n",
        "                                 \n",
        "# target_encoding = Pipeline(steps=[\n",
        "#     ('imputer', SimpleImputer(strategy='constant', fill_value='missing')),\n",
        "#     ('TE', ce.TargetEncoder(cols=te_features) )\n",
        "#          ])\n",
        "\n",
        "preprocessor = ColumnTransformer(\n",
        "    transformers=[\n",
        "        ('num', numeric_transformer, numeric_features),\n",
        "        ('cat', categorical_transformer, categorical_features)])\n",
        "\n"
      ],
      "execution_count": 0,
      "outputs": []
    },
    {
      "cell_type": "code",
      "metadata": {
        "id": "_toIoj6Hxxid",
        "colab_type": "code",
        "outputId": "d26a5684-86a7-4f82-bec7-0a5c56776798",
        "colab": {
          "base_uri": "https://localhost:8080/",
          "height": 33
        }
      },
      "source": [
        "# print(data.shape)\n",
        "\n",
        "df_numeric = pd.DataFrame(data=X_incomplete,index= range(0,len(X_incomplete)),columns=X_incomplete.columns)  \n",
        "# print(df_numeric.shape)\n",
        "\n",
        "merged =pd.concat([df_numeric, df_categorical], axis=1)\n",
        "\n",
        "\n",
        "#duplicated columns\n",
        "\n",
        "merged = merged.loc[:,~merged.columns.duplicated()]\n",
        "\n",
        "print(merged.shape)"
      ],
      "execution_count": 27,
      "outputs": [
        {
          "output_type": "stream",
          "text": [
            "(36677, 96)\n"
          ],
          "name": "stdout"
        }
      ]
    },
    {
      "cell_type": "markdown",
      "metadata": {
        "id": "BBnrdjfEsim2",
        "colab_type": "text"
      },
      "source": [
        "Now we can define our 4 models as sklearn `Pipeline` objects, containing our preprocessing step and training of one given algorithm."
      ]
    },
    {
      "cell_type": "markdown",
      "metadata": {
        "id": "pETwdSUcsim5",
        "colab_type": "text"
      },
      "source": [
        "Let's split the data into training and test sets."
      ]
    },
    {
      "cell_type": "code",
      "metadata": {
        "id": "WONzHqY4xnHM",
        "colab_type": "code",
        "outputId": "072d8ce0-a649-4e40-844c-7e081eb596dd",
        "colab": {
          "base_uri": "https://localhost:8080/",
          "height": 33
        }
      },
      "source": [
        "# Get X, y\n",
        "y = merged['camping']\n",
        "X = merged.drop(\"camping\", axis=1)\n",
        "\n",
        "# X.reset_index(drop=True).head()\n",
        "np.shape(X)"
      ],
      "execution_count": 28,
      "outputs": [
        {
          "output_type": "execute_result",
          "data": {
            "text/plain": [
              "(36677, 95)"
            ]
          },
          "metadata": {
            "tags": []
          },
          "execution_count": 28
        }
      ]
    },
    {
      "cell_type": "code",
      "metadata": {
        "id": "ATqRpJrNRqAg",
        "colab_type": "code",
        "colab": {}
      },
      "source": [
        "X_train, X_test, y_train, y_test = train_test_split(X, y, stratify=y,test_size=.3)"
      ],
      "execution_count": 0,
      "outputs": []
    },
    {
      "cell_type": "markdown",
      "metadata": {
        "id": "51CBkop6yOCB",
        "colab_type": "text"
      },
      "source": [
        "#MLP using keras\n"
      ]
    },
    {
      "cell_type": "markdown",
      "metadata": {
        "id": "qKF6uW-BCaW-",
        "colab_type": "text"
      },
      "source": [
        "## Train the model\n",
        "\n",
        "Training the neural network model requires the following steps:\n",
        "\n",
        "1. Feed the training data to the model—in this example, the `train_images` and `train_labels` arrays.\n",
        "2. The model learns to associate images and labels.\n",
        "3. We ask the model to make predictions about a test set—in this example, the `test_images` array. We verify that the predictions match the labels from the `test_labels` array.\n",
        "\n",
        "To start training,  call the `model.fit` method—the model is \"fit\" to the training data:"
      ]
    },
    {
      "cell_type": "code",
      "metadata": {
        "id": "xvwvpA64CaW_",
        "colab_type": "code",
        "colab": {}
      },
      "source": [
        "def myModel():\n",
        "    model = keras.Sequential([\n",
        "        keras.layers.Dense(32, input_shape=(123,),activation = 'relu'),\n",
        "        keras.layers.Dense(128, activation=tf.nn.relu),\n",
        "        keras.layers.Dense(1, activation=tf.nn.sigmoid)\n",
        "    ])\n",
        "\n",
        "    model.compile(optimizer='adam',\n",
        "                  loss='binary_crossentropy',\n",
        "                  metrics=['accuracy'])\n",
        "\n",
        "    model.summary()\n",
        "    \n",
        "    return model\n"
      ],
      "execution_count": 0,
      "outputs": []
    },
    {
      "cell_type": "code",
      "metadata": {
        "id": "YQZwLxxol-Hw",
        "colab_type": "code",
        "colab": {
          "base_uri": "https://localhost:8080/",
          "height": 1000
        },
        "outputId": "8b81e5b7-7fe5-4b23-db16-b1f99a483d91"
      },
      "source": [
        "from keras.wrappers.scikit_learn import KerasClassifier\n",
        "\n",
        "from keras import callbacks\n",
        "\n",
        "\n",
        "early_stopping = callbacks.EarlyStopping(monitor='val_loss', patience=3, verbose=0, mode='auto')\n",
        "\n",
        "# wrap the model using the function you created\n",
        "clf = KerasClassifier(build_fn=myModel, epochs=50, batch_size=32, verbose=1,validation_split=0.2, callbacks=[early_stopping])\n",
        "\n",
        "# Now we have a full prediction pipeline.\n",
        "Mdl = Pipeline(steps=[('preprocessor', preprocessor), ('clf',clf)])\n",
        "\n",
        "\n",
        "\n",
        "Mdl.fit(X_train, y_train)"
      ],
      "execution_count": 57,
      "outputs": [
        {
          "output_type": "stream",
          "text": [
            "Model: \"sequential_15\"\n",
            "_________________________________________________________________\n",
            "Layer (type)                 Output Shape              Param #   \n",
            "=================================================================\n",
            "dense_43 (Dense)             (None, 32)                3968      \n",
            "_________________________________________________________________\n",
            "dense_44 (Dense)             (None, 128)               4224      \n",
            "_________________________________________________________________\n",
            "dense_45 (Dense)             (None, 1)                 129       \n",
            "=================================================================\n",
            "Total params: 8,321\n",
            "Trainable params: 8,321\n",
            "Non-trainable params: 0\n",
            "_________________________________________________________________\n",
            "Train on 20538 samples, validate on 5135 samples\n",
            "Epoch 1/50\n",
            "20538/20538 [==============================] - 2s 115us/step - loss: 0.3234 - acc: 0.8766 - val_loss: 0.2944 - val_acc: 0.8896\n",
            "Epoch 2/50\n",
            "20538/20538 [==============================] - 1s 62us/step - loss: 0.2871 - acc: 0.8911 - val_loss: 0.2797 - val_acc: 0.8931\n",
            "Epoch 3/50\n",
            "20538/20538 [==============================] - 1s 58us/step - loss: 0.2784 - acc: 0.8920 - val_loss: 0.2776 - val_acc: 0.8937\n",
            "Epoch 4/50\n",
            "20538/20538 [==============================] - 1s 57us/step - loss: 0.2734 - acc: 0.8952 - val_loss: 0.2762 - val_acc: 0.8972\n",
            "Epoch 5/50\n",
            "20538/20538 [==============================] - 1s 62us/step - loss: 0.2687 - acc: 0.8954 - val_loss: 0.2760 - val_acc: 0.8995\n",
            "Epoch 6/50\n",
            "20538/20538 [==============================] - 1s 61us/step - loss: 0.2679 - acc: 0.8961 - val_loss: 0.2688 - val_acc: 0.8964\n",
            "Epoch 7/50\n",
            "20538/20538 [==============================] - 1s 60us/step - loss: 0.2642 - acc: 0.8975 - val_loss: 0.2690 - val_acc: 0.8981\n",
            "Epoch 8/50\n",
            "20538/20538 [==============================] - 1s 61us/step - loss: 0.2619 - acc: 0.8977 - val_loss: 0.2708 - val_acc: 0.8968\n",
            "Epoch 9/50\n",
            "20538/20538 [==============================] - 1s 58us/step - loss: 0.2600 - acc: 0.8987 - val_loss: 0.2913 - val_acc: 0.8927\n"
          ],
          "name": "stdout"
        },
        {
          "output_type": "execute_result",
          "data": {
            "text/plain": [
              "Pipeline(memory=None,\n",
              "         steps=[('preprocessor',\n",
              "                 ColumnTransformer(n_jobs=None, remainder='drop',\n",
              "                                   sparse_threshold=0.3,\n",
              "                                   transformer_weights=None,\n",
              "                                   transformers=[('num',\n",
              "                                                  Pipeline(memory=None,\n",
              "                                                           steps=[('imputer',\n",
              "                                                                   SimpleImputer(add_indicator=False,\n",
              "                                                                                 copy=True,\n",
              "                                                                                 fill_value=None,\n",
              "                                                                                 missing_values=nan,\n",
              "                                                                                 strategy='median',\n",
              "                                                                                 verbose=0)),\n",
              "                                                                  ('scaler',\n",
              "                                                                   StandardScaler(copy=True,\n",
              "                                                                                  with_mean...\n",
              "                                                  ['orientation_economique',\n",
              "                                                   'seg_croissance_pop',\n",
              "                                                   'urbanite_ruralite',\n",
              "                                                   'dynamique_demographique_bv',\n",
              "                                                   'seg_environnement_demographique_obsolete',\n",
              "                                                   'environnement_demographique',\n",
              "                                                   'syn_medical',\n",
              "                                                   'seg_cap_fiscale',\n",
              "                                                   'seg_dyn_entre', 'dyn_setc',\n",
              "                                                   'score_equipement_de_sante_bv'])],\n",
              "                                   verbose=False)),\n",
              "                ('clf',\n",
              "                 <keras.wrappers.scikit_learn.KerasClassifier object at 0x7f96e117e240>)],\n",
              "         verbose=False)"
            ]
          },
          "metadata": {
            "tags": []
          },
          "execution_count": 57
        }
      ]
    },
    {
      "cell_type": "code",
      "metadata": {
        "id": "LvaA0M2fC0vR",
        "colab_type": "code",
        "colab": {}
      },
      "source": [
        "history=Mdl.named_steps[\"clf\"]..history\n",
        "\n",
        "import matplotlib.pyplot as plt\n",
        "def plot_training(history):\n",
        "    # Plot training & validation accuracy values\n",
        "    plt.plot(history['acc'])\n",
        "    plt.plot(history['val_acc'])\n",
        "    plt.title('Model accuracy')\n",
        "    plt.ylabel('Accuracy')\n",
        "    plt.xlabel('Epoch')\n",
        "    plt.legend(['Train', 'Test'], loc='upper left')\n",
        "    plt.show()\n",
        "\n",
        "    # Plot training & validation loss values\n",
        "    plt.plot(history['loss'])\n",
        "    plt.plot(history['val_loss'])\n",
        "    plt.title('Model loss')\n",
        "    plt.ylabel('Loss')\n",
        "    plt.xlabel('Epoch')\n",
        "    plt.legend(['Train', 'Test'], loc='upper left')\n",
        "    plt.show()\n",
        "\n",
        "    plt.savefig('acc_vs_epochs.png')\n",
        "    \n",
        "plot_training(history)"
      ],
      "execution_count": 0,
      "outputs": []
    },
    {
      "cell_type": "markdown",
      "metadata": {
        "id": "xsoS7CPDCaXH",
        "colab_type": "text"
      },
      "source": [
        "## Make predictions\n",
        "\n",
        "With the model trained, we can use it to make predictions about some images."
      ]
    },
    {
      "cell_type": "code",
      "metadata": {
        "id": "Gl91RPhdCaXI",
        "colab_type": "code",
        "colab": {
          "base_uri": "https://localhost:8080/",
          "height": 150
        },
        "outputId": "2ebb9b41-687d-4146-d389-7ea077cf0f38"
      },
      "source": [
        "predictions = Mdl.predict(X_test)\n",
        "predictions"
      ],
      "execution_count": 59,
      "outputs": [
        {
          "output_type": "stream",
          "text": [
            "11004/11004 [==============================] - 0s 15us/step\n"
          ],
          "name": "stdout"
        },
        {
          "output_type": "execute_result",
          "data": {
            "text/plain": [
              "array([[0.],\n",
              "       [0.],\n",
              "       [0.],\n",
              "       ...,\n",
              "       [0.],\n",
              "       [0.],\n",
              "       [0.]])"
            ]
          },
          "metadata": {
            "tags": []
          },
          "execution_count": 59
        }
      ]
    },
    {
      "cell_type": "markdown",
      "metadata": {
        "id": "x9Kk1voUCaXJ",
        "colab_type": "text"
      },
      "source": [
        "Here, the model has predicted the label for each image in the testing set. Let's take a look at the first prediction:"
      ]
    },
    {
      "cell_type": "code",
      "metadata": {
        "id": "3DmJEUinCaXK",
        "colab_type": "code",
        "colab": {
          "base_uri": "https://localhost:8080/",
          "height": 33
        },
        "outputId": "16ccd180-a4f7-480e-bca1-76fa7fae7e3d"
      },
      "source": [
        "predictions[0]"
      ],
      "execution_count": 60,
      "outputs": [
        {
          "output_type": "execute_result",
          "data": {
            "text/plain": [
              "array([0.])"
            ]
          },
          "metadata": {
            "tags": []
          },
          "execution_count": 60
        }
      ]
    },
    {
      "cell_type": "markdown",
      "metadata": {
        "id": "-hw1hgeSCaXN",
        "colab_type": "text"
      },
      "source": [
        "A prediction is an array of 10 numbers. These describe the \"confidence\" of the model that the image corresponds to each of the 10 different articles of clothing. We can see which label has the highest confidence value:"
      ]
    },
    {
      "cell_type": "code",
      "metadata": {
        "id": "qsqenuPnCaXO",
        "colab_type": "code",
        "colab": {
          "base_uri": "https://localhost:8080/",
          "height": 33
        },
        "outputId": "e5062f33-4b91-4642-8859-92a91cac348e"
      },
      "source": [
        "np.argmax(predictions[0])"
      ],
      "execution_count": 61,
      "outputs": [
        {
          "output_type": "execute_result",
          "data": {
            "text/plain": [
              "0"
            ]
          },
          "metadata": {
            "tags": []
          },
          "execution_count": 61
        }
      ]
    },
    {
      "cell_type": "markdown",
      "metadata": {
        "id": "E51yS7iCCaXO",
        "colab_type": "text"
      },
      "source": [
        "So the model is most confident that sample 0 i test data is 0"
      ]
    },
    {
      "cell_type": "code",
      "metadata": {
        "id": "Sd7Pgsu6CaXP",
        "colab_type": "code",
        "colab": {
          "base_uri": "https://localhost:8080/",
          "height": 33
        },
        "outputId": "4b6b1445-0f7c-418d-d0ec-e35019ed0a97"
      },
      "source": [
        "y_test[0]"
      ],
      "execution_count": 62,
      "outputs": [
        {
          "output_type": "execute_result",
          "data": {
            "text/plain": [
              "0.0"
            ]
          },
          "metadata": {
            "tags": []
          },
          "execution_count": 62
        }
      ]
    }
  ]
}