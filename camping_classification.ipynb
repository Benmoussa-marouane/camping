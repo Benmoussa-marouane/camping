{
  "nbformat": 4,
  "nbformat_minor": 0,
  "metadata": {
    "kernelspec": {
      "display_name": "Python 3",
      "language": "python",
      "name": "python3"
    },
    "language_info": {
      "codemirror_mode": {
        "name": "ipython",
        "version": 3
      },
      "file_extension": ".py",
      "mimetype": "text/x-python",
      "name": "python",
      "nbconvert_exporter": "python",
      "pygments_lexer": "ipython3",
      "version": "3.6.5"
    },
    "colab": {
      "name": "camping classification.ipynb",
      "version": "0.3.2",
      "provenance": [],
      "collapsed_sections": [],
      "machine_shape": "hm"
    }
  },
  "cells": [
    {
      "cell_type": "markdown",
      "metadata": {
        "id": "d3kI8wVwsimg",
        "colab_type": "text"
      },
      "source": [
        "# Scoring pblm"
      ]
    },
    {
      "cell_type": "code",
      "metadata": {
        "id": "LLIP5vCssimh",
        "colab_type": "code",
        "outputId": "e369e639-43de-4920-a469-a7d5f27452b4",
        "colab": {
          "base_uri": "https://localhost:8080/",
          "height": 435
        }
      },
      "source": [
        "# Obviously\n",
        "import pandas as pd\n",
        "\n",
        "# Some sklearn tools for preprocessing and building a pipeline. \n",
        "# !pip install xgboost\n",
        "import numpy as np \n",
        "\n",
        "# To build our pipeline\n",
        "from sklearn.preprocessing import OneHotEncoder\n",
        "from sklearn.compose import ColumnTransformer\n",
        "from sklearn.pipeline import Pipeline\n",
        "\n",
        "!pip install impyute\n",
        "from impyute.imputation.cs import mice\n",
        "\n",
        "from sklearn.compose import ColumnTransformer\n",
        "from sklearn.pipeline import Pipeline\n",
        "from sklearn.impute import SimpleImputer\n",
        "from sklearn.preprocessing import StandardScaler, OneHotEncoder\n",
        "from sklearn.linear_model import LogisticRegression\n",
        "from sklearn.model_selection import train_test_split, GridSearchCV\n",
        "\n",
        "# Other helpers\n",
        "from sklearn.metrics import accuracy_score, classification_report\n",
        "\n",
        "\n",
        "!pip install category_encoders\n",
        "\n",
        "from category_encoders.target_encoder import TargetEncoder"
      ],
      "execution_count": 0,
      "outputs": [
        {
          "output_type": "stream",
          "text": [
            "Collecting impyute\n",
            "  Downloading https://files.pythonhosted.org/packages/37/28/86829f67c9affb847facaab94687761d3555539ec675f7577778c5b2680a/impyute-0.0.8-py2.py3-none-any.whl\n",
            "Requirement already satisfied: scikit-learn in /usr/local/lib/python3.6/dist-packages (from impyute) (0.21.3)\n",
            "Requirement already satisfied: scipy in /usr/local/lib/python3.6/dist-packages (from impyute) (1.3.1)\n",
            "Requirement already satisfied: numpy in /usr/local/lib/python3.6/dist-packages (from impyute) (1.16.4)\n",
            "Requirement already satisfied: joblib>=0.11 in /usr/local/lib/python3.6/dist-packages (from scikit-learn->impyute) (0.13.2)\n",
            "Installing collected packages: impyute\n",
            "Successfully installed impyute-0.0.8\n",
            "Collecting category_encoders\n",
            "\u001b[?25l  Downloading https://files.pythonhosted.org/packages/6e/a1/f7a22f144f33be78afeb06bfa78478e8284a64263a3c09b1ef54e673841e/category_encoders-2.0.0-py2.py3-none-any.whl (87kB)\n",
            "\u001b[K     |████████████████████████████████| 92kB 3.4MB/s \n",
            "\u001b[?25hRequirement already satisfied: scipy>=0.19.0 in /usr/local/lib/python3.6/dist-packages (from category_encoders) (1.3.1)\n",
            "Requirement already satisfied: numpy>=1.11.3 in /usr/local/lib/python3.6/dist-packages (from category_encoders) (1.16.4)\n",
            "Requirement already satisfied: statsmodels>=0.6.1 in /usr/local/lib/python3.6/dist-packages (from category_encoders) (0.10.1)\n",
            "Requirement already satisfied: patsy>=0.4.1 in /usr/local/lib/python3.6/dist-packages (from category_encoders) (0.5.1)\n",
            "Requirement already satisfied: scikit-learn>=0.20.0 in /usr/local/lib/python3.6/dist-packages (from category_encoders) (0.21.3)\n",
            "Requirement already satisfied: pandas>=0.21.1 in /usr/local/lib/python3.6/dist-packages (from category_encoders) (0.24.2)\n",
            "Requirement already satisfied: six in /usr/local/lib/python3.6/dist-packages (from patsy>=0.4.1->category_encoders) (1.12.0)\n",
            "Requirement already satisfied: joblib>=0.11 in /usr/local/lib/python3.6/dist-packages (from scikit-learn>=0.20.0->category_encoders) (0.13.2)\n",
            "Requirement already satisfied: python-dateutil>=2.5.0 in /usr/local/lib/python3.6/dist-packages (from pandas>=0.21.1->category_encoders) (2.5.3)\n",
            "Requirement already satisfied: pytz>=2011k in /usr/local/lib/python3.6/dist-packages (from pandas>=0.21.1->category_encoders) (2018.9)\n",
            "Installing collected packages: category-encoders\n",
            "Successfully installed category-encoders-2.0.0\n"
          ],
          "name": "stdout"
        }
      ]
    },
    {
      "cell_type": "code",
      "metadata": {
        "id": "jPvxJSOX3aJx",
        "colab_type": "code",
        "outputId": "16747f0c-cf2a-4299-f9b0-d94630de7144",
        "colab": {
          "base_uri": "https://localhost:8080/",
          "height": 625
        }
      },
      "source": [
        "!pip install lightgbm\n",
        "\n",
        "from lightgbm import LGBMClassifier\n",
        "\n",
        "!pip install catboost\n",
        "\n",
        "from catboost import CatBoostClassifier"
      ],
      "execution_count": 0,
      "outputs": [
        {
          "output_type": "stream",
          "text": [
            "Requirement already satisfied: lightgbm in /usr/local/lib/python3.6/dist-packages (2.2.3)\n",
            "Requirement already satisfied: scipy in /usr/local/lib/python3.6/dist-packages (from lightgbm) (1.3.1)\n",
            "Requirement already satisfied: scikit-learn in /usr/local/lib/python3.6/dist-packages (from lightgbm) (0.21.3)\n",
            "Requirement already satisfied: numpy in /usr/local/lib/python3.6/dist-packages (from lightgbm) (1.16.4)\n",
            "Requirement already satisfied: joblib>=0.11 in /usr/local/lib/python3.6/dist-packages (from scikit-learn->lightgbm) (0.13.2)\n",
            "Collecting catboost\n",
            "\u001b[?25l  Downloading https://files.pythonhosted.org/packages/ef/e9/41060f73ca5dcf604f75bc871ee5ce8dcb201897640b37c95aa8b1e139c8/catboost-0.16.5-cp36-none-manylinux1_x86_64.whl (61.9MB)\n",
            "\u001b[K     |████████████████████████████████| 61.9MB 1.4MB/s \n",
            "\u001b[?25hRequirement already satisfied: numpy>=1.16.0 in /usr/local/lib/python3.6/dist-packages (from catboost) (1.16.4)\n",
            "Requirement already satisfied: matplotlib in /usr/local/lib/python3.6/dist-packages (from catboost) (3.0.3)\n",
            "Requirement already satisfied: plotly in /usr/local/lib/python3.6/dist-packages (from catboost) (3.6.1)\n",
            "Requirement already satisfied: graphviz in /usr/local/lib/python3.6/dist-packages (from catboost) (0.10.1)\n",
            "Requirement already satisfied: six in /usr/local/lib/python3.6/dist-packages (from catboost) (1.12.0)\n",
            "Requirement already satisfied: pandas>=0.19.1 in /usr/local/lib/python3.6/dist-packages (from catboost) (0.24.2)\n",
            "Requirement already satisfied: pyparsing!=2.0.4,!=2.1.2,!=2.1.6,>=2.0.1 in /usr/local/lib/python3.6/dist-packages (from matplotlib->catboost) (2.4.2)\n",
            "Requirement already satisfied: cycler>=0.10 in /usr/local/lib/python3.6/dist-packages (from matplotlib->catboost) (0.10.0)\n",
            "Requirement already satisfied: kiwisolver>=1.0.1 in /usr/local/lib/python3.6/dist-packages (from matplotlib->catboost) (1.1.0)\n",
            "Requirement already satisfied: python-dateutil>=2.1 in /usr/local/lib/python3.6/dist-packages (from matplotlib->catboost) (2.5.3)\n",
            "Requirement already satisfied: pytz in /usr/local/lib/python3.6/dist-packages (from plotly->catboost) (2018.9)\n",
            "Requirement already satisfied: nbformat>=4.2 in /usr/local/lib/python3.6/dist-packages (from plotly->catboost) (4.4.0)\n",
            "Requirement already satisfied: decorator>=4.0.6 in /usr/local/lib/python3.6/dist-packages (from plotly->catboost) (4.4.0)\n",
            "Requirement already satisfied: retrying>=1.3.3 in /usr/local/lib/python3.6/dist-packages (from plotly->catboost) (1.3.3)\n",
            "Requirement already satisfied: requests in /usr/local/lib/python3.6/dist-packages (from plotly->catboost) (2.21.0)\n",
            "Requirement already satisfied: setuptools in /usr/local/lib/python3.6/dist-packages (from kiwisolver>=1.0.1->matplotlib->catboost) (41.2.0)\n",
            "Requirement already satisfied: jsonschema!=2.5.0,>=2.4 in /usr/local/lib/python3.6/dist-packages (from nbformat>=4.2->plotly->catboost) (2.6.0)\n",
            "Requirement already satisfied: traitlets>=4.1 in /usr/local/lib/python3.6/dist-packages (from nbformat>=4.2->plotly->catboost) (4.3.2)\n",
            "Requirement already satisfied: jupyter-core in /usr/local/lib/python3.6/dist-packages (from nbformat>=4.2->plotly->catboost) (4.5.0)\n",
            "Requirement already satisfied: ipython-genutils in /usr/local/lib/python3.6/dist-packages (from nbformat>=4.2->plotly->catboost) (0.2.0)\n",
            "Requirement already satisfied: idna<2.9,>=2.5 in /usr/local/lib/python3.6/dist-packages (from requests->plotly->catboost) (2.8)\n",
            "Requirement already satisfied: certifi>=2017.4.17 in /usr/local/lib/python3.6/dist-packages (from requests->plotly->catboost) (2019.6.16)\n",
            "Requirement already satisfied: urllib3<1.25,>=1.21.1 in /usr/local/lib/python3.6/dist-packages (from requests->plotly->catboost) (1.24.3)\n",
            "Requirement already satisfied: chardet<3.1.0,>=3.0.2 in /usr/local/lib/python3.6/dist-packages (from requests->plotly->catboost) (3.0.4)\n",
            "Installing collected packages: catboost\n",
            "Successfully installed catboost-0.16.5\n"
          ],
          "name": "stdout"
        }
      ]
    },
    {
      "cell_type": "code",
      "metadata": {
        "id": "2mqs38Y0soUI",
        "colab_type": "code",
        "outputId": "c1b70f6e-748e-4116-e68e-9442fa02564f",
        "colab": {
          "base_uri": "https://localhost:8080/",
          "height": 124
        }
      },
      "source": [
        "from google.colab import drive\n",
        "drive.mount('/content/drive')\n",
        "\n",
        "import sys\n",
        "sys.path.append('/content/drive/My Drive/Colab Notebooks/Data scientist')"
      ],
      "execution_count": 0,
      "outputs": [
        {
          "output_type": "stream",
          "text": [
            "Go to this URL in a browser: https://accounts.google.com/o/oauth2/auth?client_id=947318989803-6bn6qk8qdgf4n4g3pfee6491hc0brc4i.apps.googleusercontent.com&redirect_uri=urn%3Aietf%3Awg%3Aoauth%3A2.0%3Aoob&scope=email%20https%3A%2F%2Fwww.googleapis.com%2Fauth%2Fdocs.test%20https%3A%2F%2Fwww.googleapis.com%2Fauth%2Fdrive%20https%3A%2F%2Fwww.googleapis.com%2Fauth%2Fdrive.photos.readonly%20https%3A%2F%2Fwww.googleapis.com%2Fauth%2Fpeopleapi.readonly&response_type=code\n",
            "\n",
            "Enter your authorization code:\n",
            "··········\n",
            "Mounted at /content/drive\n"
          ],
          "name": "stdout"
        }
      ]
    },
    {
      "cell_type": "markdown",
      "metadata": {
        "id": "Q-VLycIEsimk",
        "colab_type": "text"
      },
      "source": [
        "### The Dataset"
      ]
    },
    {
      "cell_type": "markdown",
      "metadata": {
        "id": "Z4Ab5bagsiml",
        "colab_type": "text"
      },
      "source": [
        "data is describing each  region with some specific features and we need to classify whether there is a camping on it or not"
      ]
    },
    {
      "cell_type": "code",
      "metadata": {
        "id": "dDc2Zjz8simm",
        "colab_type": "code",
        "outputId": "2f050736-07c2-4b86-c8ae-5384c7be9028",
        "colab": {
          "base_uri": "https://localhost:8080/",
          "height": 1000
        }
      },
      "source": [
        "communes_df=pd.read_pickle('/content/drive/My Drive/Colab Notebooks/Data scientist/data/commune_scoring.pkl')\n",
        "# Separation Variables d'intérêts et variables explicatives\n",
        "print(communes_df.camping.value_counts())\n",
        "print(communes_df.info())"
      ],
      "execution_count": 0,
      "outputs": [
        {
          "output_type": "stream",
          "text": [
            "0    31610\n",
            "1     5067\n",
            "Name: camping, dtype: int64\n",
            "<class 'pandas.core.frame.DataFrame'>\n",
            "RangeIndex: 36677 entries, 0 to 36676\n",
            "Data columns (total 96 columns):\n",
            "codgeo                                                             36677 non-null object\n",
            "nb_pharmacies_et_parfumerie                                        36676 non-null float64\n",
            "dynamique_entrepreneuriale                                         36676 non-null float64\n",
            "dynamique_entrepreneuriale_service_et_commerce                     36676 non-null float64\n",
            "synergie_medicale_commune                                          36677 non-null int64\n",
            "orientation_economique                                             36677 non-null object\n",
            "indice_fiscal_partiel                                              36677 non-null float64\n",
            "score_fiscal                                                       36677 non-null float64\n",
            "indice_synergie_medicale                                           36677 non-null float64\n",
            "score_synergie_medicale                                            36677 non-null float64\n",
            "seg_croissance_pop                                                 36677 non-null object\n",
            "libgeo                                                             36677 non-null object\n",
            "reg                                                                36677 non-null int64\n",
            "dep                                                                36677 non-null object\n",
            "nb_omnipraticiens_bv                                               36677 non-null int64\n",
            "nb_infirmiers_liberaux_bv                                          36677 non-null int64\n",
            "nb_dentistes_liberaux_bv                                           36677 non-null int64\n",
            "nb_pharmaciens_liberaux_bv                                         36677 non-null int64\n",
            "densite_medicale_bv                                                36677 non-null float64\n",
            "score_equipement_de_sante_bv                                       36677 non-null int64\n",
            "indice_demographique                                               36677 non-null float64\n",
            "score_demographique                                                36677 non-null float64\n",
            "indice_menages                                                     36677 non-null float64\n",
            "score_menages                                                      36677 non-null float64\n",
            "population                                                         36677 non-null int64\n",
            "evolution_population                                               36677 non-null int64\n",
            "evolution_pop_                                                     36677 non-null int64\n",
            "nb_menages                                                         36677 non-null int64\n",
            "nb_residences_principales                                          36677 non-null int64\n",
            "nb_proprietaire                                                    36677 non-null int64\n",
            "nb_logement                                                        36677 non-null int64\n",
            "nb_residences_secondaires                                          36677 non-null int64\n",
            "nb_log_vacants                                                     36677 non-null int64\n",
            "nb_occupants_residence_principale                                  36677 non-null int64\n",
            "nb_femme                                                           36677 non-null int64\n",
            "nb_homme                                                           36677 non-null int64\n",
            "nb_mineurs                                                         36677 non-null int64\n",
            "nb_majeurs                                                         36677 non-null int64\n",
            "nb_etudiants                                                       36677 non-null int64\n",
            "nb_entreprises_secteur_services                                    36676 non-null float64\n",
            "nb_entreprises_secteur_commerce                                    36676 non-null float64\n",
            "nb_entreprises_secteur_construction                                36676 non-null float64\n",
            "nb_entreprises_secteur_industrie                                   36676 non-null float64\n",
            "nb_creation_enteprises                                             36676 non-null float64\n",
            "nb_creation_industrielles                                          36676 non-null float64\n",
            "nb_creation_construction                                           36676 non-null float64\n",
            "nb_creation_commerces                                              36676 non-null float64\n",
            "nb_creation_services                                               36676 non-null float64\n",
            "moyenne_revenus_fiscaux_departementaux                             36677 non-null int64\n",
            "moyenne_revenus_fiscaux_regionaux                                  36677 non-null int64\n",
            "dep_moyenne_salaires_horaires                                      36677 non-null float64\n",
            "dep_moyenne_salaires_cadre_horaires                                36677 non-null float64\n",
            "dep_moyenne_salaires_prof_intermediaire_horaires                   36677 non-null float64\n",
            "dep_moyenne_salaires_employe_horaires                              36677 non-null float64\n",
            "dep_moyenne_salaires_ouvrie_horaires                               36677 non-null float64\n",
            "reg_moyenne_salaires_horaires                                      36677 non-null float64\n",
            "reg_moyenne_salaires_cadre_horaires                                36677 non-null float64\n",
            "reg_moyenne_salaires_prof_intermediaire_horaires                   36677 non-null float64\n",
            "reg_moyenne_salaires_employe_horaires                              36677 non-null float64\n",
            "reg_moyenne_salaires_ouvrie_horaires                               36677 non-null float64\n",
            "valeur_ajoutee_regionale                                           36677 non-null float64\n",
            "urbanite_ruralite                                                  36677 non-null object\n",
            "score_urbanite                                                     36677 non-null float64\n",
            "nb_atifs                                                           36662 non-null float64\n",
            "nb_actifs_salaries                                                 36662 non-null float64\n",
            "nb_actifs_non_salaries                                             36662 non-null float64\n",
            "nb_logement_secondaire_et_occasionnel                              36565 non-null float64\n",
            "nb_hotel                                                           36565 non-null float64\n",
            "capacite_hotel                                                     36565 non-null float64\n",
            "dynamique_demographique_bv                                         36677 non-null object\n",
            "taux_etudiants                                                     36677 non-null int64\n",
            "taux_propriete                                                     36677 non-null int64\n",
            "dynamique_demographique_insee                                      36677 non-null int64\n",
            "capacite_fisc                                                      36677 non-null int64\n",
            "capacite_fiscale                                                   36677 non-null int64\n",
            "moyenne_revnus_fiscaux                                             36677 non-null float64\n",
            "nb_education_sante_action_sociale                                  36676 non-null float64\n",
            "nb_services_personnels_et_domestiques                              36676 non-null float64\n",
            "nb_sante_action_sociale                                            36676 non-null float64\n",
            "nb_industries_des_biens_intermediaires                             36677 non-null int64\n",
            "nb_de_commerce                                                     36677 non-null int64\n",
            "nb_de_services_aux_particuliers                                    36677 non-null int64\n",
            "nb_institution_de_education_sante_action_sociale_administration    36677 non-null int64\n",
            "pib_regionnal                                                      36677 non-null int64\n",
            "seg_environnement_demographique_obsolete                           36677 non-null object\n",
            "score_croissance_population                                        36677 non-null float64\n",
            "score_croissance_entrepreneuriale                                  36676 non-null float64\n",
            "score_va_region                                                    36677 non-null float64\n",
            "score_pib                                                          36677 non-null float64\n",
            "environnement_demographique                                        36677 non-null object\n",
            "syn_medical                                                        36677 non-null object\n",
            "seg_cap_fiscale                                                    36677 non-null object\n",
            "seg_dyn_entre                                                      36676 non-null object\n",
            "dyn_setc                                                           36676 non-null object\n",
            "cp                                                                 36677 non-null object\n",
            "camping                                                            36677 non-null int64\n",
            "dtypes: float64(47), int64(35), object(14)\n",
            "memory usage: 26.9+ MB\n",
            "None\n"
          ],
          "name": "stdout"
        }
      ]
    },
    {
      "cell_type": "markdown",
      "metadata": {
        "id": "KBYnsloFwAP3",
        "colab_type": "text"
      },
      "source": [
        "###keep in mind data in unbalanced we need to pick carefully good evaluation metric."
      ]
    },
    {
      "cell_type": "code",
      "metadata": {
        "id": "-E6ttuA2simq",
        "colab_type": "code",
        "outputId": "989b95eb-ed18-43f9-a33c-63a93d6c5723",
        "colab": {
          "base_uri": "https://localhost:8080/",
          "height": 34
        }
      },
      "source": [
        "dff = communes_df.select_dtypes(exclude=[\"number\",\"bool\"])\n",
        "df_categorical = dff.assign(score_equipement_de_sante_bv=communes_df['score_equipement_de_sante_bv'])\n",
        "df_categorical = df_categorical.fillna(df_categorical.mode().iloc[0]) # impute missing data using Mode or most frequent For categorical data \n",
        "\n",
        "\n",
        "##############################\n",
        "\n",
        "numerics = ['int16', 'int32', 'int64', 'float16', 'float32', 'float64']\n",
        "X_incomplete = communes_df.select_dtypes(include=numerics).astype(float)\n",
        "df_numeric = X_incomplete[X_incomplete.columns.difference(['score_equipement_de_sante_bv'])]### score_equipment_de_sante  is categorical\n",
        "\n",
        "print(len(X_incomplete))"
      ],
      "execution_count": 0,
      "outputs": [
        {
          "output_type": "stream",
          "text": [
            "36677\n"
          ],
          "name": "stdout"
        }
      ]
    },
    {
      "cell_type": "code",
      "metadata": {
        "id": "yWkO5Ww2kCYl",
        "colab_type": "code",
        "colab": {}
      },
      "source": [
        "# from IPython.display import Image\n",
        "# Image(filename='interactions.jpg')"
      ],
      "execution_count": 0,
      "outputs": []
    },
    {
      "cell_type": "code",
      "metadata": {
        "id": "OjjFFQUasimu",
        "colab_type": "code",
        "colab": {}
      },
      "source": [
        "for f in df_numeric.columns:\n",
        "  X_incomplete[f].fillna((X_incomplete[f].mean()), inplace=True)"
      ],
      "execution_count": 0,
      "outputs": []
    },
    {
      "cell_type": "code",
      "metadata": {
        "id": "Xo1OJ_sF7afA",
        "colab_type": "code",
        "colab": {}
      },
      "source": [
        "# Source: https://maxhalford.github.io/blog/target-encoding-done-the-right-way/\n",
        "def calc_smooth_mean(df1, cat_name, target, weight):\n",
        "    # Compute the global mean\n",
        "    mean = communes_df[target].mean()\n",
        "\n",
        "    # Compute the number of values and the mean of each group\n",
        "    agg = communes_df.groupby(cat_name)[target].agg(['count', 'mean'])\n",
        "    counts = agg['count']\n",
        "    means = agg['mean']\n",
        "\n",
        "    # Compute the \"smoothed\" means\n",
        "    smooth = (counts * means + weight * mean) / (counts + weight)\n",
        "\n",
        "    return df1[cat_name].map(smooth)"
      ],
      "execution_count": 0,
      "outputs": []
    },
    {
      "cell_type": "markdown",
      "metadata": {
        "id": "XFPwDJUIBLgV",
        "colab_type": "text"
      },
      "source": [
        "Feature 'codgeo' has 36677 unique categories note good idea to use target encoding\n",
        "\n",
        "Feature 'libgeo' has 34125 unique categories\n",
        "\n",
        "Feature 'dep' has 100 unique categories\n",
        "\n",
        "Feature 'cp' has 100 unique categories"
      ]
    },
    {
      "cell_type": "code",
      "metadata": {
        "id": "fFVAeLDA7ntw",
        "colab_type": "code",
        "colab": {}
      },
      "source": [
        "WEIGHT = 300\n",
        "df_categorical['codgeo'] = calc_smooth_mean(df1=communes_df, cat_name='codgeo', target='camping', weight=WEIGHT).astype('category')\n",
        "df_categorical['libgeo'] = calc_smooth_mean(df1=communes_df, cat_name='libgeo', target='camping', weight=WEIGHT).astype('category')\n",
        "df_categorical['dep'] = calc_smooth_mean(df1=communes_df, cat_name='dep', target='camping', weight=WEIGHT).astype('category')\n",
        "df_categorical['cp'] = calc_smooth_mean(df1=communes_df, cat_name='cp', target='camping', weight=WEIGHT).astype('category')"
      ],
      "execution_count": 0,
      "outputs": []
    },
    {
      "cell_type": "code",
      "metadata": {
        "id": "m1DNNQ9qY3Ej",
        "colab_type": "code",
        "outputId": "85a568e6-d181-4239-f787-a08097d3c3e2",
        "colab": {
          "base_uri": "https://localhost:8080/",
          "height": 198
        }
      },
      "source": [
        "#0.137693\t0.137693\t0.0883396\t0.0883396\n",
        "#\n",
        "#\n",
        "df_categorical[['codgeo','libgeo','dep','cp']].head()"
      ],
      "execution_count": 0,
      "outputs": [
        {
          "output_type": "execute_result",
          "data": {
            "text/html": [
              "<div>\n",
              "<style scoped>\n",
              "    .dataframe tbody tr th:only-of-type {\n",
              "        vertical-align: middle;\n",
              "    }\n",
              "\n",
              "    .dataframe tbody tr th {\n",
              "        vertical-align: top;\n",
              "    }\n",
              "\n",
              "    .dataframe thead th {\n",
              "        text-align: right;\n",
              "    }\n",
              "</style>\n",
              "<table border=\"1\" class=\"dataframe\">\n",
              "  <thead>\n",
              "    <tr style=\"text-align: right;\">\n",
              "      <th></th>\n",
              "      <th>codgeo</th>\n",
              "      <th>libgeo</th>\n",
              "      <th>dep</th>\n",
              "      <th>cp</th>\n",
              "    </tr>\n",
              "  </thead>\n",
              "  <tbody>\n",
              "    <tr>\n",
              "      <th>0</th>\n",
              "      <td>0.137693</td>\n",
              "      <td>0.137693</td>\n",
              "      <td>0.143874</td>\n",
              "      <td>0.143874</td>\n",
              "    </tr>\n",
              "    <tr>\n",
              "      <th>1</th>\n",
              "      <td>0.137693</td>\n",
              "      <td>0.137693</td>\n",
              "      <td>0.143874</td>\n",
              "      <td>0.143874</td>\n",
              "    </tr>\n",
              "    <tr>\n",
              "      <th>2</th>\n",
              "      <td>0.137693</td>\n",
              "      <td>0.137693</td>\n",
              "      <td>0.143874</td>\n",
              "      <td>0.143874</td>\n",
              "    </tr>\n",
              "    <tr>\n",
              "      <th>3</th>\n",
              "      <td>0.141015</td>\n",
              "      <td>0.141015</td>\n",
              "      <td>0.143874</td>\n",
              "      <td>0.143874</td>\n",
              "    </tr>\n",
              "    <tr>\n",
              "      <th>4</th>\n",
              "      <td>0.137693</td>\n",
              "      <td>0.137693</td>\n",
              "      <td>0.143874</td>\n",
              "      <td>0.143874</td>\n",
              "    </tr>\n",
              "  </tbody>\n",
              "</table>\n",
              "</div>"
            ],
            "text/plain": [
              "     codgeo    libgeo       dep        cp\n",
              "0  0.137693  0.137693  0.143874  0.143874\n",
              "1  0.137693  0.137693  0.143874  0.143874\n",
              "2  0.137693  0.137693  0.143874  0.143874\n",
              "3  0.141015  0.141015  0.143874  0.143874\n",
              "4  0.137693  0.137693  0.143874  0.143874"
            ]
          },
          "metadata": {
            "tags": []
          },
          "execution_count": 11
        }
      ]
    },
    {
      "cell_type": "code",
      "metadata": {
        "id": "zFveHBLKQ8AD",
        "colab_type": "code",
        "outputId": "93e05cc8-83a2-4031-d05e-1ac91d2ab6ec",
        "colab": {
          "base_uri": "https://localhost:8080/",
          "height": 276
        }
      },
      "source": [
        "# Decide which categorical variables you want to use in model\n",
        "for col_name in df_categorical.columns:\n",
        "#     if df_numeric[col_name].dtypes == 'object':\n",
        "      unique_cat = len(df_categorical[col_name].unique())\n",
        "      print(\"Feature '{col_name}' has {unique_cat} unique categories\".format(col_name=col_name, unique_cat=unique_cat))"
      ],
      "execution_count": 0,
      "outputs": [
        {
          "output_type": "stream",
          "text": [
            "Feature 'codgeo' has 2 unique categories\n",
            "Feature 'orientation_economique' has 5 unique categories\n",
            "Feature 'seg_croissance_pop' has 2 unique categories\n",
            "Feature 'libgeo' has 35 unique categories\n",
            "Feature 'dep' has 99 unique categories\n",
            "Feature 'urbanite_ruralite' has 6 unique categories\n",
            "Feature 'dynamique_demographique_bv' has 7 unique categories\n",
            "Feature 'seg_environnement_demographique_obsolete' has 8 unique categories\n",
            "Feature 'environnement_demographique' has 7 unique categories\n",
            "Feature 'syn_medical' has 3 unique categories\n",
            "Feature 'seg_cap_fiscale' has 3 unique categories\n",
            "Feature 'seg_dyn_entre' has 3 unique categories\n",
            "Feature 'dyn_setc' has 3 unique categories\n",
            "Feature 'cp' has 99 unique categories\n",
            "Feature 'score_equipement_de_sante_bv' has 5 unique categories\n"
          ],
          "name": "stdout"
        }
      ]
    },
    {
      "cell_type": "code",
      "metadata": {
        "id": "S0AWLp2YRP8H",
        "colab_type": "code",
        "outputId": "043f25c8-1fa9-4c4b-993a-0f6870530e74",
        "colab": {
          "base_uri": "https://localhost:8080/",
          "height": 138
        }
      },
      "source": [
        "df_categorical['urbanite_ruralite'].value_counts()"
      ],
      "execution_count": 0,
      "outputs": [
        {
          "output_type": "execute_result",
          "data": {
            "text/plain": [
              "Com rurale < 2 000 m habts    30052\n",
              "Com < 10 m habts               2505\n",
              "Com > 200 m habts              1369\n",
              "Com < 50 m habts               1325\n",
              "Com < 200 m habts               836\n",
              "Com rurale > 2 000 habts        590\n",
              "Name: urbanite_ruralite, dtype: int64"
            ]
          },
          "metadata": {
            "tags": []
          },
          "execution_count": 13
        }
      ]
    },
    {
      "cell_type": "code",
      "metadata": {
        "id": "NWnkoMuGR0Ld",
        "colab_type": "code",
        "outputId": "3a7dc6c6-f36b-4f74-ac4c-8bc821740477",
        "colab": {
          "base_uri": "https://localhost:8080/",
          "height": 69
        }
      },
      "source": [
        "# In this case, bucket low frequecy categories as \"Other\"\n",
        "df_categorical['urbanite_ruralite'] = ['Com rurale < 2 000 m habts ' if x == 'Com rurale < 2 000 m habts' else 'Other' for x in df_categorical['urbanite_ruralite']]\n",
        "\n",
        "print(df_categorical['urbanite_ruralite'].value_counts().sort_values(ascending=False))"
      ],
      "execution_count": 0,
      "outputs": [
        {
          "output_type": "stream",
          "text": [
            "Com rurale < 2 000 m habts     30052\n",
            "Other                           6625\n",
            "Name: urbanite_ruralite, dtype: int64\n"
          ],
          "name": "stdout"
        }
      ]
    },
    {
      "cell_type": "code",
      "metadata": {
        "id": "4ijlA9r2TwBG",
        "colab_type": "code",
        "outputId": "a7d0f174-5aa6-4d50-d66b-239262d17baa",
        "colab": {
          "base_uri": "https://localhost:8080/",
          "height": 86
        }
      },
      "source": [
        "df_categorical['seg_cap_fiscale'].value_counts() "
      ],
      "execution_count": 0,
      "outputs": [
        {
          "output_type": "execute_result",
          "data": {
            "text/plain": [
              "Fiscalité moyenne    28780\n",
              "Fiscalité faible      6628\n",
              "Fiscalité élevée      1269\n",
              "Name: seg_cap_fiscale, dtype: int64"
            ]
          },
          "metadata": {
            "tags": []
          },
          "execution_count": 15
        }
      ]
    },
    {
      "cell_type": "code",
      "metadata": {
        "id": "yhHrTuDwTaRC",
        "colab_type": "code",
        "outputId": "2243d227-ce76-4cb0-ecda-67565aa1b58b",
        "colab": {
          "base_uri": "https://localhost:8080/",
          "height": 69
        }
      },
      "source": [
        "# In this case, bucket low frequecy categories as \"Other\"\n",
        "df_categorical['seg_cap_fiscale'] = ['Fiscalité moyenne' if x == 'Fiscalité moyenne' else 'Other' for x in df_categorical['seg_cap_fiscale']]\n",
        "\n",
        "print(df_categorical['seg_cap_fiscale'].value_counts().sort_values(ascending=False))"
      ],
      "execution_count": 0,
      "outputs": [
        {
          "output_type": "stream",
          "text": [
            "Fiscalité moyenne    28780\n",
            "Other                 7897\n",
            "Name: seg_cap_fiscale, dtype: int64\n"
          ],
          "name": "stdout"
        }
      ]
    },
    {
      "cell_type": "code",
      "metadata": {
        "id": "CmsdXNosUE25",
        "colab_type": "code",
        "outputId": "2615191d-9ad9-4cb4-c119-1793a50f1964",
        "colab": {
          "base_uri": "https://localhost:8080/",
          "height": 86
        }
      },
      "source": [
        "df_categorical['syn_medical'].value_counts()"
      ],
      "execution_count": 0,
      "outputs": [
        {
          "output_type": "execute_result",
          "data": {
            "text/plain": [
              "Faible Synergie Médicale    24669\n",
              "Forte Synergie Médicale      6048\n",
              "Synergie Médicale            5960\n",
              "Name: syn_medical, dtype: int64"
            ]
          },
          "metadata": {
            "tags": []
          },
          "execution_count": 17
        }
      ]
    },
    {
      "cell_type": "code",
      "metadata": {
        "id": "rhH7WympUjFi",
        "colab_type": "code",
        "outputId": "4728e1ad-bb28-47b9-ef70-2dbf32fc676f",
        "colab": {
          "base_uri": "https://localhost:8080/",
          "height": 69
        }
      },
      "source": [
        "# In this case, bucket low frequecy categories as \"Other\"\n",
        "df_categorical['syn_medical'] = ['Faible Synergie Médicale' if x == 'Faible Synergie Médicale' else 'Other' for x in df_categorical['syn_medical']]\n",
        "\n",
        "print(df_categorical['syn_medical'].value_counts().sort_values(ascending=False))"
      ],
      "execution_count": 0,
      "outputs": [
        {
          "output_type": "stream",
          "text": [
            "Faible Synergie Médicale    24669\n",
            "Other                       12008\n",
            "Name: syn_medical, dtype: int64\n"
          ],
          "name": "stdout"
        }
      ]
    },
    {
      "cell_type": "code",
      "metadata": {
        "id": "E-jdUpIhUjXg",
        "colab_type": "code",
        "outputId": "5fa8ec89-4e9e-41b2-9789-e5fe59c4358b",
        "colab": {
          "base_uri": "https://localhost:8080/",
          "height": 86
        }
      },
      "source": [
        "df_categorical['seg_dyn_entre'].value_counts()"
      ],
      "execution_count": 0,
      "outputs": [
        {
          "output_type": "execute_result",
          "data": {
            "text/plain": [
              "Faible dynamique        30187\n",
              "Dynamique Economique     5059\n",
              "Moyenne dynamique        1431\n",
              "Name: seg_dyn_entre, dtype: int64"
            ]
          },
          "metadata": {
            "tags": []
          },
          "execution_count": 19
        }
      ]
    },
    {
      "cell_type": "code",
      "metadata": {
        "id": "dha-kI_6Ujaf",
        "colab_type": "code",
        "outputId": "9ad74dab-8c33-4962-8dbf-b3b0cf437e65",
        "colab": {
          "base_uri": "https://localhost:8080/",
          "height": 69
        }
      },
      "source": [
        "# In this case, bucket low frequecy categories as \"Other\"\n",
        "df_categorical['seg_dyn_entre'] = ['Faible dynamique' if x == 'Faible dynamique' else 'Other' for x in df_categorical['seg_dyn_entre']]\n",
        "\n",
        "print(df_categorical['seg_dyn_entre'].value_counts().sort_values(ascending=False))"
      ],
      "execution_count": 0,
      "outputs": [
        {
          "output_type": "stream",
          "text": [
            "Faible dynamique    30187\n",
            "Other                6490\n",
            "Name: seg_dyn_entre, dtype: int64\n"
          ],
          "name": "stdout"
        }
      ]
    },
    {
      "cell_type": "code",
      "metadata": {
        "id": "trQqQlaTUjdn",
        "colab_type": "code",
        "outputId": "308dfc32-264f-4447-82a7-4a1babe9c25b",
        "colab": {
          "base_uri": "https://localhost:8080/",
          "height": 86
        }
      },
      "source": [
        "df_categorical.dyn_setc.value_counts()"
      ],
      "execution_count": 0,
      "outputs": [
        {
          "output_type": "execute_result",
          "data": {
            "text/plain": [
              "Faible Dynamique Serv et Com              31916\n",
              "Bonne Dynamique Entreprise Serv et Com     3788\n",
              "Dynamique Serv et Com                       973\n",
              "Name: dyn_setc, dtype: int64"
            ]
          },
          "metadata": {
            "tags": []
          },
          "execution_count": 21
        }
      ]
    },
    {
      "cell_type": "code",
      "metadata": {
        "id": "GXa6Ua9tVvsF",
        "colab_type": "code",
        "outputId": "c646cc0e-4d0d-4514-9d13-21a1446a60ff",
        "colab": {
          "base_uri": "https://localhost:8080/",
          "height": 69
        }
      },
      "source": [
        "# In this case, bucket low frequecy categories as \"Other\"\n",
        "df_categorical['dyn_setc'] = ['Faible Dynamique Serv et Com' if x == 'Faible Dynamique Serv et Com' else 'Other' for x in df_categorical['dyn_setc']]\n",
        "\n",
        "print(df_categorical['dyn_setc'].value_counts().sort_values(ascending=False))"
      ],
      "execution_count": 0,
      "outputs": [
        {
          "output_type": "stream",
          "text": [
            "Faible Dynamique Serv et Com    31916\n",
            "Other                            4761\n",
            "Name: dyn_setc, dtype: int64\n"
          ],
          "name": "stdout"
        }
      ]
    },
    {
      "cell_type": "code",
      "metadata": {
        "id": "JV3-PF5rWIK5",
        "colab_type": "code",
        "colab": {}
      },
      "source": [
        "# df_categorical.seg_environnement_demographique_obsolete.value_counts()"
      ],
      "execution_count": 0,
      "outputs": []
    },
    {
      "cell_type": "code",
      "metadata": {
        "id": "bkEAD8NVWITj",
        "colab_type": "code",
        "colab": {}
      },
      "source": [
        "# # In this case, bucket low frequecy categories as \"Other\"\n",
        "# for x in df_categorical['seg_environnement_demographique_obsolete'] :\n",
        "  \n",
        "#     if x is 'Zone rurale en croissance démographique':  \n",
        "#         df_categorical['seg_environnement_demographique_obsolete'] = 'Zone rurale en croissance démographique'\n",
        "    \n",
        "#     elif x is 'Zone rurale en déclin démographique':  \n",
        "#         df_categorical['seg_environnement_demographique_obsolete'] = 'Zone rurale en déclin démographique'\n",
        "    \n",
        "#     else:\n",
        "#         df_categorical['seg_environnement_demographique_obsolete'] = 'other'\n",
        "        \n",
        "        \n",
        "    \n",
        "# print(df_categorical['seg_environnement_demographique_obsolete'].value_counts().sort_values(ascending=False))"
      ],
      "execution_count": 0,
      "outputs": []
    },
    {
      "cell_type": "code",
      "metadata": {
        "id": "-KxpuZoORF1_",
        "colab_type": "code",
        "outputId": "31f10669-20db-4bb3-c327-933a61e61e16",
        "colab": {
          "base_uri": "https://localhost:8080/",
          "height": 1000
        }
      },
      "source": [
        "for c in df_categorical.columns:\n",
        "  print(df_categorical[c].value_counts().sort_values(ascending=False).head(10))\n",
        "  print()\n",
        " "
      ],
      "execution_count": 0,
      "outputs": [
        {
          "output_type": "stream",
          "text": [
            "0.137693    31610\n",
            "0.141015     5067\n",
            "Name: codgeo, dtype: int64\n",
            "\n",
            "Bassin Résidentiel         16870\n",
            "Bassin Urbain               8671\n",
            "Bassin Industriel           7122\n",
            "Bassins Agroalimentaire     2564\n",
            "Bassin diversifié           1450\n",
            "Name: orientation_economique, dtype: int64\n",
            "\n",
            "en croissance démographique    36666\n",
            "en déclin démographique           11\n",
            "Name: seg_croissance_pop, dtype: int64\n",
            "\n",
            "0.137693    27899\n",
            "0.141015     4613\n",
            "0.137237     1824\n",
            "0.136784      558\n",
            "0.140548      446\n",
            "0.136334      244\n",
            "0.140084      162\n",
            "0.135887      150\n",
            "0.139624      116\n",
            "0.135443       66\n",
            "Name: libgeo, dtype: int64\n",
            "\n",
            "0.149452    894\n",
            "0.082463    866\n",
            "0.063123    816\n",
            "0.107621    782\n",
            "0.095163    745\n",
            "0.072277    730\n",
            "0.082866    707\n",
            "0.104817    706\n",
            "0.064900    693\n",
            "0.076354    675\n",
            "Name: dep, dtype: int64\n",
            "\n",
            "Com rurale < 2 000 m habts     30052\n",
            "Other                           6625\n",
            "Name: urbanite_ruralite, dtype: int64\n",
            "\n",
            "Grande Ville                                          8671\n",
            "1.Accroissement par excédent naturel et migratoire    7677\n",
            "3.Accroissement par excédent migratoire               6037\n",
            "5.Déclin par déficit naturel                          4711\n",
            "4.Déclin par déficit naturel et migratoire            3680\n",
            "6.Déclin par déficit migratoire                       3438\n",
            "2.Accroissement par excédent naturel                  2463\n",
            "Name: dynamique_demographique_bv, dtype: int64\n",
            "\n",
            "Zone rurale en croissance démographique                   16177\n",
            "Zone rurale en déclin démographique                       11829\n",
            "Com rurale < 2 000 m habts en croissance démographique     5488\n",
            "Com > 200 m habts en croissance démographique              1369\n",
            "Com < 200 m habts en croissance démographique               836\n",
            "Com < 10 m habts en croissance démographique                430\n",
            "Com < 50 m habts en croissance démographique                354\n",
            "Com rurale > 2 000 habts en croissance démographique        194\n",
            "Name: seg_environnement_demographique_obsolete, dtype: int64\n",
            "\n",
            "Bassin Résidentiel en croissance démographique         16860\n",
            "Bassin Urbain en croissance démographique               8671\n",
            "Bassin Industriel en croissance démographique           7122\n",
            "Bassins Agroalimentaire en croissance démographique     2564\n",
            "Bassin diversifié en croissance démographique           1449\n",
            "Bassin Résidentiel en déclin démographique                10\n",
            "Bassin diversifié en déclin démographique                  1\n",
            "Name: environnement_demographique, dtype: int64\n",
            "\n",
            "Faible Synergie Médicale    24669\n",
            "Other                       12008\n",
            "Name: syn_medical, dtype: int64\n",
            "\n",
            "Fiscalité moyenne    28780\n",
            "Other                 7897\n",
            "Name: seg_cap_fiscale, dtype: int64\n",
            "\n",
            "Faible dynamique    30187\n",
            "Other                6490\n",
            "Name: seg_dyn_entre, dtype: int64\n",
            "\n",
            "Faible Dynamique Serv et Com    31916\n",
            "Other                            4761\n",
            "Name: dyn_setc, dtype: int64\n",
            "\n",
            "0.149452    894\n",
            "0.082463    866\n",
            "0.063123    816\n",
            "0.107621    782\n",
            "0.095163    745\n",
            "0.072277    730\n",
            "0.082866    707\n",
            "0.104817    706\n",
            "0.064900    693\n",
            "0.076354    675\n",
            "Name: cp, dtype: int64\n",
            "\n",
            "4    13119\n",
            "1    11340\n",
            "3     6405\n",
            "2     4840\n",
            "0      973\n",
            "Name: score_equipement_de_sante_bv, dtype: int64\n",
            "\n"
          ],
          "name": "stdout"
        }
      ]
    },
    {
      "cell_type": "markdown",
      "metadata": {
        "id": "MXXG9CQ9simy",
        "colab_type": "text"
      },
      "source": [
        "### Create our \"pipeline\" models with `ColumnTransformer` and `Pipeline`"
      ]
    },
    {
      "cell_type": "markdown",
      "metadata": {
        "id": "LlgphDYTsimz",
        "colab_type": "text"
      },
      "source": [
        "We'll define a new `ColumnTransformer` object that keeps our numerical features and apply one hot encoding on our categorical features. \n",
        "\n",
        "That will allow us to create a clean pipeline that includes both features engineering (one hot encoding here) and training the model (a nice way to avoid data leakage)"
      ]
    },
    {
      "cell_type": "code",
      "metadata": {
        "id": "KtmDROWT8aBN",
        "colab_type": "code",
        "colab": {}
      },
      "source": [
        "numeric_features =list(df_numeric)\n",
        "numeric_features.remove('camping')\n",
        "\n",
        "categorical_features =list(df_categorical)\n",
        "\n",
        "te_features = ['codgeo','libgeo','dep','cp']\n",
        "\n",
        "\n",
        "for i in te_features:\n",
        "  categorical_features.remove(i)\n",
        " \n",
        "\n",
        "\n",
        "numeric_transformer = Pipeline(steps=[\n",
        "    ('imputer', SimpleImputer(strategy='median')),\n",
        "    ('scaler', StandardScaler())])\n",
        "\n",
        "\n",
        "                                 \n",
        "categorical_transformer = Pipeline(steps=[\n",
        "    ('imputer', SimpleImputer(strategy='constant', fill_value='missing')),\n",
        "    ('onehot', OneHotEncoder(handle_unknown='ignore'))\n",
        "         ])\n",
        "\n",
        "                                 \n",
        "# target_encoding = Pipeline(steps=[\n",
        "#     ('imputer', SimpleImputer(strategy='constant', fill_value='missing')),\n",
        "#     ('TE', ce.TargetEncoder(cols=te_features) )\n",
        "#          ])\n",
        "\n",
        "preprocessor = ColumnTransformer(\n",
        "    transformers=[\n",
        "        ('num', numeric_transformer, numeric_features),\n",
        "        ('cat', categorical_transformer, categorical_features)]\n",
        "                                )\n",
        "\n",
        "# Append classifier to preprocessing pipeline.\n",
        "# Now we have a full prediction pipeline.\n",
        "clf = Pipeline(steps=[('preprocessor', preprocessor),\n",
        "                      ('classifier', LogisticRegression(class_weight=\"balanced\", \n",
        "                                                  solver=\"liblinear\", \n",
        "                                                  random_state=42,max_iter = 1100))])"
      ],
      "execution_count": 0,
      "outputs": []
    },
    {
      "cell_type": "code",
      "metadata": {
        "id": "_toIoj6Hxxid",
        "colab_type": "code",
        "outputId": "0b851fd4-c76f-45ac-ee51-b931c042c1ed",
        "colab": {
          "base_uri": "https://localhost:8080/",
          "height": 34
        }
      },
      "source": [
        "# print(data.shape)\n",
        "\n",
        "df_numeric = pd.DataFrame(data=X_incomplete,index= range(0,len(X_incomplete)),columns=X_incomplete.columns)  \n",
        "# print(df_numeric.shape)\n",
        "\n",
        "merged =pd.concat([df_numeric, df_categorical], axis=1)\n",
        "\n",
        "\n",
        "#duplicated columns\n",
        "\n",
        "merged = merged.loc[:,~merged.columns.duplicated()]\n",
        "\n",
        "print(merged.shape)"
      ],
      "execution_count": 0,
      "outputs": [
        {
          "output_type": "stream",
          "text": [
            "(36677, 96)\n"
          ],
          "name": "stdout"
        }
      ]
    },
    {
      "cell_type": "markdown",
      "metadata": {
        "id": "BBnrdjfEsim2",
        "colab_type": "text"
      },
      "source": [
        "Now we can define our 4 models as sklearn `Pipeline` objects, containing our preprocessing step and training of one given algorithm."
      ]
    },
    {
      "cell_type": "markdown",
      "metadata": {
        "id": "pETwdSUcsim5",
        "colab_type": "text"
      },
      "source": [
        "Let's split the data into training and test sets."
      ]
    },
    {
      "cell_type": "code",
      "metadata": {
        "id": "WONzHqY4xnHM",
        "colab_type": "code",
        "outputId": "41ec80fe-8051-4ae8-91ab-3633c1b815aa",
        "colab": {
          "base_uri": "https://localhost:8080/",
          "height": 34
        }
      },
      "source": [
        "# Get X, y\n",
        "y = merged['camping']\n",
        "X = merged.drop(\"camping\", axis=1)\n",
        "\n",
        "# X.reset_index(drop=True).head()\n",
        "np.shape(X)"
      ],
      "execution_count": 0,
      "outputs": [
        {
          "output_type": "execute_result",
          "data": {
            "text/plain": [
              "(36677, 95)"
            ]
          },
          "metadata": {
            "tags": []
          },
          "execution_count": 28
        }
      ]
    },
    {
      "cell_type": "code",
      "metadata": {
        "id": "cb_68Odosim6",
        "colab_type": "code",
        "colab": {}
      },
      "source": [
        "X_train, X_test, y_train, y_test = train_test_split(X, y, stratify=y,test_size=.3)\n",
        "\n"
      ],
      "execution_count": 0,
      "outputs": []
    },
    {
      "cell_type": "markdown",
      "metadata": {
        "id": "gB3Mpcc4sim9",
        "colab_type": "text"
      },
      "source": [
        "We're good to go!"
      ]
    },
    {
      "cell_type": "markdown",
      "metadata": {
        "id": "lkG6629tsim9",
        "colab_type": "text"
      },
      "source": [
        "### Train Logistic Regression"
      ]
    },
    {
      "cell_type": "markdown",
      "metadata": {
        "id": "fSKdeg8qsim-",
        "colab_type": "text"
      },
      "source": [
        "First let's fine tune our logistic regression and evaluate its performance. We can treat our pipeline object like a normal sklearn model and call `.fit` or `.predict` on it. We can also directly pass it to the `GridSearchCV` function."
      ]
    },
    {
      "cell_type": "code",
      "metadata": {
        "id": "CAkl0HZm8wR-",
        "colab_type": "code",
        "outputId": "8294c464-50e2-4f64-9684-0e2258689cb7",
        "colab": {
          "base_uri": "https://localhost:8080/",
          "height": 34
        }
      },
      "source": [
        "clf.fit(X_train, y_train)\n",
        "\n",
        "print(\"model score: %.3f\" % clf.score(X_test, y_test))"
      ],
      "execution_count": 0,
      "outputs": [
        {
          "output_type": "stream",
          "text": [
            "model score: 0.818\n"
          ],
          "name": "stdout"
        }
      ]
    },
    {
      "cell_type": "code",
      "metadata": {
        "id": "JdvUHfTfsim-",
        "colab_type": "code",
        "outputId": "01955f91-85ae-4076-f411-780204533a20",
        "colab": {
          "base_uri": "https://localhost:8080/",
          "height": 34
        }
      },
      "source": [
        "grid_search = GridSearchCV(clf, {'classifier__C': [0.1, 1.0, 10]}, \n",
        "                  n_jobs=-1, cv=5, scoring=\"accuracy\")\n",
        "\n",
        "\n",
        "grid_search.fit(X_train, y_train)\n",
        "\n",
        "print((\"best logistic regression from grid search: %.3f\"\n",
        "       % grid_search.score(X_test, y_test)))"
      ],
      "execution_count": 0,
      "outputs": [
        {
          "output_type": "stream",
          "text": [
            "best logistic regression from grid search: 0.817\n"
          ],
          "name": "stdout"
        }
      ]
    },
    {
      "cell_type": "markdown",
      "metadata": {
        "id": "fr1diRBysinB",
        "colab_type": "text"
      },
      "source": [
        "Let's see our best parameters and score"
      ]
    },
    {
      "cell_type": "code",
      "metadata": {
        "id": "ol7cZw5gsinB",
        "colab_type": "code",
        "outputId": "1d708a92-fae1-4777-db70-a4ff21bbe1a7",
        "colab": {
          "base_uri": "https://localhost:8080/",
          "height": 52
        }
      },
      "source": [
        "print(grid_search.best_params_)\n",
        "print(grid_search.best_score_)"
      ],
      "execution_count": 0,
      "outputs": [
        {
          "output_type": "stream",
          "text": [
            "{'classifier__C': 10}\n",
            "0.8155649904569002\n"
          ],
          "name": "stdout"
        }
      ]
    },
    {
      "cell_type": "markdown",
      "metadata": {
        "id": "PE8N79VdsinE",
        "colab_type": "text"
      },
      "source": [
        "Let's retrain our model on the whole training data with the best parameters. First we need to update the parameters inside our pipeline. We can use the `set_params` method for that."
      ]
    },
    {
      "cell_type": "code",
      "metadata": {
        "id": "y60KaZWKsinE",
        "colab_type": "code",
        "outputId": "bd7ddba5-3f0f-460c-ed19-a6c81ab950c3",
        "colab": {
          "base_uri": "https://localhost:8080/",
          "height": 518
        }
      },
      "source": [
        "clf.set_params(**grid_search.best_params_)"
      ],
      "execution_count": 0,
      "outputs": [
        {
          "output_type": "execute_result",
          "data": {
            "text/plain": [
              "Pipeline(memory=None,\n",
              "         steps=[('preprocessor',\n",
              "                 ColumnTransformer(n_jobs=None, remainder='drop',\n",
              "                                   sparse_threshold=0.3,\n",
              "                                   transformer_weights=None,\n",
              "                                   transformers=[('num',\n",
              "                                                  Pipeline(memory=None,\n",
              "                                                           steps=[('imputer',\n",
              "                                                                   SimpleImputer(add_indicator=False,\n",
              "                                                                                 copy=True,\n",
              "                                                                                 fill_value=None,\n",
              "                                                                                 missing_values=nan,\n",
              "                                                                                 strategy='median',\n",
              "                                                                                 verbose=0)),\n",
              "                                                                  ('scaler',\n",
              "                                                                   StandardScaler(copy=True,\n",
              "                                                                                  with_mean...\n",
              "                                                   'seg_dyn_entre', 'dyn_setc',\n",
              "                                                   'score_equipement_de_sante_bv'])],\n",
              "                                   verbose=False)),\n",
              "                ('classifier',\n",
              "                 LogisticRegression(C=10, class_weight='balanced', dual=False,\n",
              "                                    fit_intercept=True, intercept_scaling=1,\n",
              "                                    l1_ratio=None, max_iter=1100,\n",
              "                                    multi_class='warn', n_jobs=None,\n",
              "                                    penalty='l2', random_state=42,\n",
              "                                    solver='liblinear', tol=0.0001, verbose=0,\n",
              "                                    warm_start=False))],\n",
              "         verbose=False)"
            ]
          },
          "metadata": {
            "tags": []
          },
          "execution_count": 33
        }
      ]
    },
    {
      "cell_type": "markdown",
      "metadata": {
        "id": "D4qCibmRsinH",
        "colab_type": "text"
      },
      "source": [
        "We can run `get_params` to get the parameters of our model as a sanity check that we have properly updated the parameters."
      ]
    },
    {
      "cell_type": "code",
      "metadata": {
        "id": "WGv5ljbTsinH",
        "colab_type": "code",
        "outputId": "1c11d661-125d-4977-c891-bfe4fc689ab4",
        "colab": {
          "base_uri": "https://localhost:8080/",
          "height": 1000
        }
      },
      "source": [
        "clf.get_params(\"classifier\")"
      ],
      "execution_count": 0,
      "outputs": [
        {
          "output_type": "execute_result",
          "data": {
            "text/plain": [
              "{'classifier': LogisticRegression(C=10, class_weight='balanced', dual=False,\n",
              "                    fit_intercept=True, intercept_scaling=1, l1_ratio=None,\n",
              "                    max_iter=1100, multi_class='warn', n_jobs=None, penalty='l2',\n",
              "                    random_state=42, solver='liblinear', tol=0.0001, verbose=0,\n",
              "                    warm_start=False),\n",
              " 'classifier__C': 10,\n",
              " 'classifier__class_weight': 'balanced',\n",
              " 'classifier__dual': False,\n",
              " 'classifier__fit_intercept': True,\n",
              " 'classifier__intercept_scaling': 1,\n",
              " 'classifier__l1_ratio': None,\n",
              " 'classifier__max_iter': 1100,\n",
              " 'classifier__multi_class': 'warn',\n",
              " 'classifier__n_jobs': None,\n",
              " 'classifier__penalty': 'l2',\n",
              " 'classifier__random_state': 42,\n",
              " 'classifier__solver': 'liblinear',\n",
              " 'classifier__tol': 0.0001,\n",
              " 'classifier__verbose': 0,\n",
              " 'classifier__warm_start': False,\n",
              " 'memory': None,\n",
              " 'preprocessor': ColumnTransformer(n_jobs=None, remainder='drop', sparse_threshold=0.3,\n",
              "                   transformer_weights=None,\n",
              "                   transformers=[('num',\n",
              "                                  Pipeline(memory=None,\n",
              "                                           steps=[('imputer',\n",
              "                                                   SimpleImputer(add_indicator=False,\n",
              "                                                                 copy=True,\n",
              "                                                                 fill_value=None,\n",
              "                                                                 missing_values=nan,\n",
              "                                                                 strategy='median',\n",
              "                                                                 verbose=0)),\n",
              "                                                  ('scaler',\n",
              "                                                   StandardScaler(copy=True,\n",
              "                                                                  with_mean=True,\n",
              "                                                                  with_std=True))],\n",
              "                                           verbose=False),\n",
              "                                  ['capa...\n",
              "                                                                 dtype=<class 'numpy.float64'>,\n",
              "                                                                 handle_unknown='ignore',\n",
              "                                                                 n_values=None,\n",
              "                                                                 sparse=True))],\n",
              "                                           verbose=False),\n",
              "                                  ['orientation_economique',\n",
              "                                   'seg_croissance_pop', 'urbanite_ruralite',\n",
              "                                   'dynamique_demographique_bv',\n",
              "                                   'seg_environnement_demographique_obsolete',\n",
              "                                   'environnement_demographique', 'syn_medical',\n",
              "                                   'seg_cap_fiscale', 'seg_dyn_entre',\n",
              "                                   'dyn_setc',\n",
              "                                   'score_equipement_de_sante_bv'])],\n",
              "                   verbose=False),\n",
              " 'preprocessor__cat': Pipeline(memory=None,\n",
              "          steps=[('imputer',\n",
              "                  SimpleImputer(add_indicator=False, copy=True,\n",
              "                                fill_value='missing', missing_values=nan,\n",
              "                                strategy='constant', verbose=0)),\n",
              "                 ('onehot',\n",
              "                  OneHotEncoder(categorical_features=None, categories=None,\n",
              "                                drop=None, dtype=<class 'numpy.float64'>,\n",
              "                                handle_unknown='ignore', n_values=None,\n",
              "                                sparse=True))],\n",
              "          verbose=False),\n",
              " 'preprocessor__cat__imputer': SimpleImputer(add_indicator=False, copy=True, fill_value='missing',\n",
              "               missing_values=nan, strategy='constant', verbose=0),\n",
              " 'preprocessor__cat__imputer__add_indicator': False,\n",
              " 'preprocessor__cat__imputer__copy': True,\n",
              " 'preprocessor__cat__imputer__fill_value': 'missing',\n",
              " 'preprocessor__cat__imputer__missing_values': nan,\n",
              " 'preprocessor__cat__imputer__strategy': 'constant',\n",
              " 'preprocessor__cat__imputer__verbose': 0,\n",
              " 'preprocessor__cat__memory': None,\n",
              " 'preprocessor__cat__onehot': OneHotEncoder(categorical_features=None, categories=None, drop=None,\n",
              "               dtype=<class 'numpy.float64'>, handle_unknown='ignore',\n",
              "               n_values=None, sparse=True),\n",
              " 'preprocessor__cat__onehot__categorical_features': None,\n",
              " 'preprocessor__cat__onehot__categories': None,\n",
              " 'preprocessor__cat__onehot__drop': None,\n",
              " 'preprocessor__cat__onehot__dtype': numpy.float64,\n",
              " 'preprocessor__cat__onehot__handle_unknown': 'ignore',\n",
              " 'preprocessor__cat__onehot__n_values': None,\n",
              " 'preprocessor__cat__onehot__sparse': True,\n",
              " 'preprocessor__cat__steps': [('imputer',\n",
              "   SimpleImputer(add_indicator=False, copy=True, fill_value='missing',\n",
              "                 missing_values=nan, strategy='constant', verbose=0)),\n",
              "  ('onehot',\n",
              "   OneHotEncoder(categorical_features=None, categories=None, drop=None,\n",
              "                 dtype=<class 'numpy.float64'>, handle_unknown='ignore',\n",
              "                 n_values=None, sparse=True))],\n",
              " 'preprocessor__cat__verbose': False,\n",
              " 'preprocessor__n_jobs': None,\n",
              " 'preprocessor__num': Pipeline(memory=None,\n",
              "          steps=[('imputer',\n",
              "                  SimpleImputer(add_indicator=False, copy=True, fill_value=None,\n",
              "                                missing_values=nan, strategy='median',\n",
              "                                verbose=0)),\n",
              "                 ('scaler',\n",
              "                  StandardScaler(copy=True, with_mean=True, with_std=True))],\n",
              "          verbose=False),\n",
              " 'preprocessor__num__imputer': SimpleImputer(add_indicator=False, copy=True, fill_value=None,\n",
              "               missing_values=nan, strategy='median', verbose=0),\n",
              " 'preprocessor__num__imputer__add_indicator': False,\n",
              " 'preprocessor__num__imputer__copy': True,\n",
              " 'preprocessor__num__imputer__fill_value': None,\n",
              " 'preprocessor__num__imputer__missing_values': nan,\n",
              " 'preprocessor__num__imputer__strategy': 'median',\n",
              " 'preprocessor__num__imputer__verbose': 0,\n",
              " 'preprocessor__num__memory': None,\n",
              " 'preprocessor__num__scaler': StandardScaler(copy=True, with_mean=True, with_std=True),\n",
              " 'preprocessor__num__scaler__copy': True,\n",
              " 'preprocessor__num__scaler__with_mean': True,\n",
              " 'preprocessor__num__scaler__with_std': True,\n",
              " 'preprocessor__num__steps': [('imputer',\n",
              "   SimpleImputer(add_indicator=False, copy=True, fill_value=None,\n",
              "                 missing_values=nan, strategy='median', verbose=0)),\n",
              "  ('scaler', StandardScaler(copy=True, with_mean=True, with_std=True))],\n",
              " 'preprocessor__num__verbose': False,\n",
              " 'preprocessor__remainder': 'drop',\n",
              " 'preprocessor__sparse_threshold': 0.3,\n",
              " 'preprocessor__transformer_weights': None,\n",
              " 'preprocessor__transformers': [('num', Pipeline(memory=None,\n",
              "            steps=[('imputer',\n",
              "                    SimpleImputer(add_indicator=False, copy=True, fill_value=None,\n",
              "                                  missing_values=nan, strategy='median',\n",
              "                                  verbose=0)),\n",
              "                   ('scaler',\n",
              "                    StandardScaler(copy=True, with_mean=True, with_std=True))],\n",
              "            verbose=False), ['capacite_fisc',\n",
              "    'capacite_fiscale',\n",
              "    'capacite_hotel',\n",
              "    'densite_medicale_bv',\n",
              "    'dep_moyenne_salaires_cadre_horaires',\n",
              "    'dep_moyenne_salaires_employe_horaires',\n",
              "    'dep_moyenne_salaires_horaires',\n",
              "    'dep_moyenne_salaires_ouvrie_horaires',\n",
              "    'dep_moyenne_salaires_prof_intermediaire_horaires',\n",
              "    'dynamique_demographique_insee',\n",
              "    'dynamique_entrepreneuriale',\n",
              "    'dynamique_entrepreneuriale_service_et_commerce',\n",
              "    'evolution_pop_',\n",
              "    'evolution_population',\n",
              "    'indice_demographique',\n",
              "    'indice_fiscal_partiel',\n",
              "    'indice_menages',\n",
              "    'indice_synergie_medicale',\n",
              "    'moyenne_revenus_fiscaux_departementaux',\n",
              "    'moyenne_revenus_fiscaux_regionaux',\n",
              "    'moyenne_revnus_fiscaux',\n",
              "    'nb_actifs_non_salaries',\n",
              "    'nb_actifs_salaries',\n",
              "    'nb_atifs',\n",
              "    'nb_creation_commerces',\n",
              "    'nb_creation_construction',\n",
              "    'nb_creation_enteprises',\n",
              "    'nb_creation_industrielles',\n",
              "    'nb_creation_services',\n",
              "    'nb_de_commerce',\n",
              "    'nb_de_services_aux_particuliers',\n",
              "    'nb_dentistes_liberaux_bv',\n",
              "    'nb_education_sante_action_sociale',\n",
              "    'nb_entreprises_secteur_commerce',\n",
              "    'nb_entreprises_secteur_construction',\n",
              "    'nb_entreprises_secteur_industrie',\n",
              "    'nb_entreprises_secteur_services',\n",
              "    'nb_etudiants',\n",
              "    'nb_femme',\n",
              "    'nb_homme',\n",
              "    'nb_hotel',\n",
              "    'nb_industries_des_biens_intermediaires',\n",
              "    'nb_infirmiers_liberaux_bv',\n",
              "    'nb_institution_de_education_sante_action_sociale_administration',\n",
              "    'nb_log_vacants',\n",
              "    'nb_logement',\n",
              "    'nb_logement_secondaire_et_occasionnel',\n",
              "    'nb_majeurs',\n",
              "    'nb_menages',\n",
              "    'nb_mineurs',\n",
              "    'nb_occupants_residence_principale',\n",
              "    'nb_omnipraticiens_bv',\n",
              "    'nb_pharmaciens_liberaux_bv',\n",
              "    'nb_pharmacies_et_parfumerie',\n",
              "    'nb_proprietaire',\n",
              "    'nb_residences_principales',\n",
              "    'nb_residences_secondaires',\n",
              "    'nb_sante_action_sociale',\n",
              "    'nb_services_personnels_et_domestiques',\n",
              "    'pib_regionnal',\n",
              "    'population',\n",
              "    'reg',\n",
              "    'reg_moyenne_salaires_cadre_horaires',\n",
              "    'reg_moyenne_salaires_employe_horaires',\n",
              "    'reg_moyenne_salaires_horaires',\n",
              "    'reg_moyenne_salaires_ouvrie_horaires',\n",
              "    'reg_moyenne_salaires_prof_intermediaire_horaires',\n",
              "    'score_croissance_entrepreneuriale',\n",
              "    'score_croissance_population',\n",
              "    'score_demographique',\n",
              "    'score_fiscal',\n",
              "    'score_menages',\n",
              "    'score_pib',\n",
              "    'score_synergie_medicale',\n",
              "    'score_urbanite',\n",
              "    'score_va_region',\n",
              "    'synergie_medicale_commune',\n",
              "    'taux_etudiants',\n",
              "    'taux_propriete',\n",
              "    'valeur_ajoutee_regionale']),\n",
              "  ('cat', Pipeline(memory=None,\n",
              "            steps=[('imputer',\n",
              "                    SimpleImputer(add_indicator=False, copy=True,\n",
              "                                  fill_value='missing', missing_values=nan,\n",
              "                                  strategy='constant', verbose=0)),\n",
              "                   ('onehot',\n",
              "                    OneHotEncoder(categorical_features=None, categories=None,\n",
              "                                  drop=None, dtype=<class 'numpy.float64'>,\n",
              "                                  handle_unknown='ignore', n_values=None,\n",
              "                                  sparse=True))],\n",
              "            verbose=False), ['orientation_economique',\n",
              "    'seg_croissance_pop',\n",
              "    'urbanite_ruralite',\n",
              "    'dynamique_demographique_bv',\n",
              "    'seg_environnement_demographique_obsolete',\n",
              "    'environnement_demographique',\n",
              "    'syn_medical',\n",
              "    'seg_cap_fiscale',\n",
              "    'seg_dyn_entre',\n",
              "    'dyn_setc',\n",
              "    'score_equipement_de_sante_bv'])],\n",
              " 'preprocessor__verbose': False,\n",
              " 'steps': [('preprocessor',\n",
              "   ColumnTransformer(n_jobs=None, remainder='drop', sparse_threshold=0.3,\n",
              "                     transformer_weights=None,\n",
              "                     transformers=[('num',\n",
              "                                    Pipeline(memory=None,\n",
              "                                             steps=[('imputer',\n",
              "                                                     SimpleImputer(add_indicator=False,\n",
              "                                                                   copy=True,\n",
              "                                                                   fill_value=None,\n",
              "                                                                   missing_values=nan,\n",
              "                                                                   strategy='median',\n",
              "                                                                   verbose=0)),\n",
              "                                                    ('scaler',\n",
              "                                                     StandardScaler(copy=True,\n",
              "                                                                    with_mean=True,\n",
              "                                                                    with_std=True))],\n",
              "                                             verbose=False),\n",
              "                                    ['capa...\n",
              "                                                                   dtype=<class 'numpy.float64'>,\n",
              "                                                                   handle_unknown='ignore',\n",
              "                                                                   n_values=None,\n",
              "                                                                   sparse=True))],\n",
              "                                             verbose=False),\n",
              "                                    ['orientation_economique',\n",
              "                                     'seg_croissance_pop', 'urbanite_ruralite',\n",
              "                                     'dynamique_demographique_bv',\n",
              "                                     'seg_environnement_demographique_obsolete',\n",
              "                                     'environnement_demographique', 'syn_medical',\n",
              "                                     'seg_cap_fiscale', 'seg_dyn_entre',\n",
              "                                     'dyn_setc',\n",
              "                                     'score_equipement_de_sante_bv'])],\n",
              "                     verbose=False)),\n",
              "  ('classifier', LogisticRegression(C=10, class_weight='balanced', dual=False,\n",
              "                      fit_intercept=True, intercept_scaling=1, l1_ratio=None,\n",
              "                      max_iter=1100, multi_class='warn', n_jobs=None, penalty='l2',\n",
              "                      random_state=42, solver='liblinear', tol=0.0001, verbose=0,\n",
              "                      warm_start=False))],\n",
              " 'verbose': False}"
            ]
          },
          "metadata": {
            "tags": []
          },
          "execution_count": 34
        }
      ]
    },
    {
      "cell_type": "markdown",
      "metadata": {
        "id": "t0hnSU33sinJ",
        "colab_type": "text"
      },
      "source": [
        "Now we can fit the model on the whole training set and calculate accuracy on the test set."
      ]
    },
    {
      "cell_type": "code",
      "metadata": {
        "id": "nW9RKouUsinK",
        "colab_type": "code",
        "outputId": "e463e5a1-db43-49c3-eea0-84a1496c8996",
        "colab": {
          "base_uri": "https://localhost:8080/",
          "height": 518
        }
      },
      "source": [
        "clf.fit(X_train, y_train)"
      ],
      "execution_count": 0,
      "outputs": [
        {
          "output_type": "execute_result",
          "data": {
            "text/plain": [
              "Pipeline(memory=None,\n",
              "         steps=[('preprocessor',\n",
              "                 ColumnTransformer(n_jobs=None, remainder='drop',\n",
              "                                   sparse_threshold=0.3,\n",
              "                                   transformer_weights=None,\n",
              "                                   transformers=[('num',\n",
              "                                                  Pipeline(memory=None,\n",
              "                                                           steps=[('imputer',\n",
              "                                                                   SimpleImputer(add_indicator=False,\n",
              "                                                                                 copy=True,\n",
              "                                                                                 fill_value=None,\n",
              "                                                                                 missing_values=nan,\n",
              "                                                                                 strategy='median',\n",
              "                                                                                 verbose=0)),\n",
              "                                                                  ('scaler',\n",
              "                                                                   StandardScaler(copy=True,\n",
              "                                                                                  with_mean...\n",
              "                                                   'seg_dyn_entre', 'dyn_setc',\n",
              "                                                   'score_equipement_de_sante_bv'])],\n",
              "                                   verbose=False)),\n",
              "                ('classifier',\n",
              "                 LogisticRegression(C=10, class_weight='balanced', dual=False,\n",
              "                                    fit_intercept=True, intercept_scaling=1,\n",
              "                                    l1_ratio=None, max_iter=1100,\n",
              "                                    multi_class='warn', n_jobs=None,\n",
              "                                    penalty='l2', random_state=42,\n",
              "                                    solver='liblinear', tol=0.0001, verbose=0,\n",
              "                                    warm_start=False))],\n",
              "         verbose=False)"
            ]
          },
          "metadata": {
            "tags": []
          },
          "execution_count": 35
        }
      ]
    },
    {
      "cell_type": "markdown",
      "metadata": {
        "id": "i_hwM_KrsinM",
        "colab_type": "text"
      },
      "source": [
        "Generate predictions"
      ]
    },
    {
      "cell_type": "code",
      "metadata": {
        "id": "w_7K1I3gsinN",
        "colab_type": "code",
        "colab": {}
      },
      "source": [
        "y_pred = clf.predict(X_test)"
      ],
      "execution_count": 0,
      "outputs": []
    },
    {
      "cell_type": "code",
      "metadata": {
        "id": "6KQd60s4sinQ",
        "colab_type": "code",
        "outputId": "c78d8ef8-8c06-49ff-d011-b93a993702ee",
        "colab": {
          "base_uri": "https://localhost:8080/",
          "height": 34
        }
      },
      "source": [
        "accuracy_score(y_test, y_pred)"
      ],
      "execution_count": 0,
      "outputs": [
        {
          "output_type": "execute_result",
          "data": {
            "text/plain": [
              "0.81697564521992"
            ]
          },
          "metadata": {
            "tags": []
          },
          "execution_count": 37
        }
      ]
    },
    {
      "cell_type": "code",
      "metadata": {
        "id": "UB3hsjY6sinT",
        "colab_type": "code",
        "outputId": "c6107eca-a9cc-47e7-ae01-ed1462c285b7",
        "colab": {
          "base_uri": "https://localhost:8080/",
          "height": 173
        }
      },
      "source": [
        "print(classification_report(y_test, y_pred))"
      ],
      "execution_count": 0,
      "outputs": [
        {
          "output_type": "stream",
          "text": [
            "              precision    recall  f1-score   support\n",
            "\n",
            "         0.0       0.95      0.83      0.89      9484\n",
            "         1.0       0.41      0.71      0.52      1520\n",
            "\n",
            "    accuracy                           0.82     11004\n",
            "   macro avg       0.68      0.77      0.70     11004\n",
            "weighted avg       0.87      0.82      0.84     11004\n",
            "\n"
          ],
          "name": "stdout"
        }
      ]
    },
    {
      "cell_type": "markdown",
      "metadata": {
        "id": "7g2VbJAssinV",
        "colab_type": "text"
      },
      "source": [
        "Here the pipeline creates a temporary DataFrame that contains the one hot encoded features. If you want to debug your pipeline, you can access intermediary stages at any time. For instance below we get the preprocessor, extract the stage for categorical features and get the categories it has learnt:"
      ]
    },
    {
      "cell_type": "code",
      "metadata": {
        "id": "_b0KAHEJsinW",
        "colab_type": "code",
        "colab": {}
      },
      "source": [
        "# ohe_categories = clf.named_steps[\"preprocessor\"].transformers_[1][1].named_steps['onehot'].get_feature_names()\n",
        "\n",
        "# ohe_categories"
      ],
      "execution_count": 0,
      "outputs": []
    },
    {
      "cell_type": "markdown",
      "metadata": {
        "id": "Z3pgs9Uqsing",
        "colab_type": "text"
      },
      "source": [
        "Great, so now we have a nice list of columns after processing. Let's visualise the data in a dataframe just for sanity check. For that we can also call methods directly on specificy stages:"
      ]
    },
    {
      "cell_type": "code",
      "metadata": {
        "id": "Qi3S5caJsing",
        "colab_type": "code",
        "colab": {}
      },
      "source": [
        "# df = pd.DataFrame(clf.named_steps[\"preprocessor\"].transform(X_train))\n",
        "# df.head()\n",
        "# #124==codgeo or libgeo"
      ],
      "execution_count": 0,
      "outputs": []
    },
    {
      "cell_type": "markdown",
      "metadata": {
        "id": "wB_TJljSsini",
        "colab_type": "text"
      },
      "source": [
        "### Train a Decision Tree"
      ]
    },
    {
      "cell_type": "markdown",
      "metadata": {
        "id": "3vFQY_fesinj",
        "colab_type": "text"
      },
      "source": [
        "Define the new model"
      ]
    },
    {
      "cell_type": "code",
      "metadata": {
        "id": "Graa6lFysinj",
        "colab_type": "code",
        "colab": {}
      },
      "source": [
        "from sklearn.tree import DecisionTreeClassifier\n",
        "\n",
        "# Decision Tree\n",
        "dt_model = Pipeline([(\"preprocessor\", preprocessor), \n",
        "                     (\"model\", DecisionTreeClassifier(class_weight=\"balanced\"))])"
      ],
      "execution_count": 0,
      "outputs": []
    },
    {
      "cell_type": "code",
      "metadata": {
        "id": "PpBzju05sinm",
        "colab_type": "code",
        "outputId": "b368edf8-0715-451d-c8df-21b387625e1d",
        "colab": {
          "base_uri": "https://localhost:8080/",
          "height": 518
        }
      },
      "source": [
        "gs = GridSearchCV(dt_model, {\"model__max_depth\": [3, 5, 7], \n",
        "                             \"model__min_samples_split\": [2, 5]}, \n",
        "                  n_jobs=-1, cv=5, scoring=\"accuracy\")\n",
        "\n",
        "gs.fit(X_train, y_train)"
      ],
      "execution_count": 0,
      "outputs": [
        {
          "output_type": "execute_result",
          "data": {
            "text/plain": [
              "GridSearchCV(cv=5, error_score='raise-deprecating',\n",
              "             estimator=Pipeline(memory=None,\n",
              "                                steps=[('preprocessor',\n",
              "                                        ColumnTransformer(n_jobs=None,\n",
              "                                                          remainder='drop',\n",
              "                                                          sparse_threshold=0.3,\n",
              "                                                          transformer_weights=None,\n",
              "                                                          transformers=[('num',\n",
              "                                                                         Pipeline(memory=None,\n",
              "                                                                                  steps=[('imputer',\n",
              "                                                                                          SimpleImputer(add_indicator=False,\n",
              "                                                                                                        copy=True,\n",
              "                                                                                                        fill_value=None,\n",
              "                                                                                                        missing_values=nan,\n",
              "                                                                                                        strategy='medi...\n",
              "                                                               min_impurity_decrease=0.0,\n",
              "                                                               min_impurity_split=None,\n",
              "                                                               min_samples_leaf=1,\n",
              "                                                               min_samples_split=2,\n",
              "                                                               min_weight_fraction_leaf=0.0,\n",
              "                                                               presort=False,\n",
              "                                                               random_state=None,\n",
              "                                                               splitter='best'))],\n",
              "                                verbose=False),\n",
              "             iid='warn', n_jobs=-1,\n",
              "             param_grid={'model__max_depth': [3, 5, 7],\n",
              "                         'model__min_samples_split': [2, 5]},\n",
              "             pre_dispatch='2*n_jobs', refit=True, return_train_score=False,\n",
              "             scoring='accuracy', verbose=0)"
            ]
          },
          "metadata": {
            "tags": []
          },
          "execution_count": 42
        }
      ]
    },
    {
      "cell_type": "markdown",
      "metadata": {
        "id": "OpIdPEUksinv",
        "colab_type": "text"
      },
      "source": [
        "Let's see our best parameters and score"
      ]
    },
    {
      "cell_type": "code",
      "metadata": {
        "id": "5X9M_E7Qsinv",
        "colab_type": "code",
        "outputId": "56d73c7a-6be4-4072-86dc-7e22cdc47863",
        "colab": {
          "base_uri": "https://localhost:8080/",
          "height": 52
        }
      },
      "source": [
        "print(gs.best_params_)\n",
        "print(gs.best_score_)"
      ],
      "execution_count": 0,
      "outputs": [
        {
          "output_type": "stream",
          "text": [
            "{'model__max_depth': 5, 'model__min_samples_split': 2}\n",
            "0.813656370505979\n"
          ],
          "name": "stdout"
        }
      ]
    },
    {
      "cell_type": "code",
      "metadata": {
        "id": "Ruke6RGasinw",
        "colab_type": "code",
        "outputId": "646466dc-8186-4cf4-8bb3-6495c6aee5de",
        "colab": {
          "base_uri": "https://localhost:8080/",
          "height": 536
        }
      },
      "source": [
        "dt_model.set_params(**gs.best_params_)"
      ],
      "execution_count": 0,
      "outputs": [
        {
          "output_type": "execute_result",
          "data": {
            "text/plain": [
              "Pipeline(memory=None,\n",
              "         steps=[('preprocessor',\n",
              "                 ColumnTransformer(n_jobs=None, remainder='drop',\n",
              "                                   sparse_threshold=0.3,\n",
              "                                   transformer_weights=None,\n",
              "                                   transformers=[('num',\n",
              "                                                  Pipeline(memory=None,\n",
              "                                                           steps=[('imputer',\n",
              "                                                                   SimpleImputer(add_indicator=False,\n",
              "                                                                                 copy=True,\n",
              "                                                                                 fill_value=None,\n",
              "                                                                                 missing_values=nan,\n",
              "                                                                                 strategy='median',\n",
              "                                                                                 verbose=0)),\n",
              "                                                                  ('scaler',\n",
              "                                                                   StandardScaler(copy=True,\n",
              "                                                                                  with_mean...\n",
              "                                                   'score_equipement_de_sante_bv'])],\n",
              "                                   verbose=False)),\n",
              "                ('model',\n",
              "                 DecisionTreeClassifier(class_weight='balanced',\n",
              "                                        criterion='gini', max_depth=5,\n",
              "                                        max_features=None, max_leaf_nodes=None,\n",
              "                                        min_impurity_decrease=0.0,\n",
              "                                        min_impurity_split=None,\n",
              "                                        min_samples_leaf=1, min_samples_split=2,\n",
              "                                        min_weight_fraction_leaf=0.0,\n",
              "                                        presort=False, random_state=None,\n",
              "                                        splitter='best'))],\n",
              "         verbose=False)"
            ]
          },
          "metadata": {
            "tags": []
          },
          "execution_count": 44
        }
      ]
    },
    {
      "cell_type": "code",
      "metadata": {
        "id": "LOAJjQFJsiny",
        "colab_type": "code",
        "colab": {}
      },
      "source": [
        "dt_model.fit(X_train, y_train)\n",
        "y_pred = dt_model.predict(X_test)"
      ],
      "execution_count": 0,
      "outputs": []
    },
    {
      "cell_type": "code",
      "metadata": {
        "id": "R6T7T2Xtsinz",
        "colab_type": "code",
        "outputId": "9fc4c491-e5e3-4e37-ef1d-a747df2c10b9",
        "colab": {
          "base_uri": "https://localhost:8080/",
          "height": 34
        }
      },
      "source": [
        "accuracy_score(y_test, y_pred)"
      ],
      "execution_count": 0,
      "outputs": [
        {
          "output_type": "execute_result",
          "data": {
            "text/plain": [
              "0.7926208651399491"
            ]
          },
          "metadata": {
            "tags": []
          },
          "execution_count": 46
        }
      ]
    },
    {
      "cell_type": "code",
      "metadata": {
        "id": "cmlvGAEPsin1",
        "colab_type": "code",
        "outputId": "97b6102c-6b4a-4801-d6d9-3ca2983a195b",
        "colab": {
          "base_uri": "https://localhost:8080/",
          "height": 173
        }
      },
      "source": [
        "print(classification_report(y_test, y_pred))"
      ],
      "execution_count": 0,
      "outputs": [
        {
          "output_type": "stream",
          "text": [
            "              precision    recall  f1-score   support\n",
            "\n",
            "         0.0       0.95      0.80      0.87      9484\n",
            "         1.0       0.38      0.77      0.50      1520\n",
            "\n",
            "    accuracy                           0.79     11004\n",
            "   macro avg       0.67      0.78      0.69     11004\n",
            "weighted avg       0.88      0.79      0.82     11004\n",
            "\n"
          ],
          "name": "stdout"
        }
      ]
    },
    {
      "cell_type": "markdown",
      "metadata": {
        "id": "oVOSpJZYsin3",
        "colab_type": "text"
      },
      "source": [
        "### Train a Random Forest"
      ]
    },
    {
      "cell_type": "code",
      "metadata": {
        "id": "wejZftCxsin3",
        "colab_type": "code",
        "colab": {}
      },
      "source": [
        "from sklearn.ensemble import RandomForestClassifier\n",
        "\n",
        "# Random Forest\n",
        "rf_model = Pipeline([(\"preprocessor\", preprocessor), \n",
        "                     (\"model\", RandomForestClassifier(class_weight=\"balanced\", \n",
        "                                                      n_estimators=100, n_jobs=-1))])"
      ],
      "execution_count": 0,
      "outputs": []
    },
    {
      "cell_type": "code",
      "metadata": {
        "id": "DF5Xr6hfsin5",
        "colab_type": "code",
        "outputId": "c709b46b-836a-4ee5-db8b-10964e305f36",
        "colab": {
          "base_uri": "https://localhost:8080/",
          "height": 536
        }
      },
      "source": [
        "gs = GridSearchCV(rf_model, {\"model__max_depth\": [10, 15], \n",
        "                             \"model__min_samples_split\": [5, 10]}, \n",
        "                  n_jobs=-1, cv=5, scoring=\"accuracy\")\n",
        "\n",
        "gs.fit(X_train, y_train)"
      ],
      "execution_count": 0,
      "outputs": [
        {
          "output_type": "execute_result",
          "data": {
            "text/plain": [
              "GridSearchCV(cv=5, error_score='raise-deprecating',\n",
              "             estimator=Pipeline(memory=None,\n",
              "                                steps=[('preprocessor',\n",
              "                                        ColumnTransformer(n_jobs=None,\n",
              "                                                          remainder='drop',\n",
              "                                                          sparse_threshold=0.3,\n",
              "                                                          transformer_weights=None,\n",
              "                                                          transformers=[('num',\n",
              "                                                                         Pipeline(memory=None,\n",
              "                                                                                  steps=[('imputer',\n",
              "                                                                                          SimpleImputer(add_indicator=False,\n",
              "                                                                                                        copy=True,\n",
              "                                                                                                        fill_value=None,\n",
              "                                                                                                        missing_values=nan,\n",
              "                                                                                                        strategy='medi...\n",
              "                                                               min_samples_leaf=1,\n",
              "                                                               min_samples_split=2,\n",
              "                                                               min_weight_fraction_leaf=0.0,\n",
              "                                                               n_estimators=100,\n",
              "                                                               n_jobs=-1,\n",
              "                                                               oob_score=False,\n",
              "                                                               random_state=None,\n",
              "                                                               verbose=0,\n",
              "                                                               warm_start=False))],\n",
              "                                verbose=False),\n",
              "             iid='warn', n_jobs=-1,\n",
              "             param_grid={'model__max_depth': [10, 15],\n",
              "                         'model__min_samples_split': [5, 10]},\n",
              "             pre_dispatch='2*n_jobs', refit=True, return_train_score=False,\n",
              "             scoring='accuracy', verbose=0)"
            ]
          },
          "metadata": {
            "tags": []
          },
          "execution_count": 49
        }
      ]
    },
    {
      "cell_type": "markdown",
      "metadata": {
        "id": "xMfXhKQusin6",
        "colab_type": "text"
      },
      "source": [
        "Let's see our best parameters and score"
      ]
    },
    {
      "cell_type": "code",
      "metadata": {
        "id": "dlBQc_Exsin7",
        "colab_type": "code",
        "outputId": "10b9d0ae-b177-4fbb-93c2-00c51105d2ec",
        "colab": {
          "base_uri": "https://localhost:8080/",
          "height": 52
        }
      },
      "source": [
        "print(gs.best_params_)\n",
        "print(gs.best_score_)"
      ],
      "execution_count": 0,
      "outputs": [
        {
          "output_type": "stream",
          "text": [
            "{'model__max_depth': 15, 'model__min_samples_split': 5}\n",
            "0.8911307599423519\n"
          ],
          "name": "stdout"
        }
      ]
    },
    {
      "cell_type": "code",
      "metadata": {
        "id": "Vd4WyUGzsin8",
        "colab_type": "code",
        "outputId": "5b38ffd8-2466-4114-c848-03508521b4ce",
        "colab": {
          "base_uri": "https://localhost:8080/",
          "height": 518
        }
      },
      "source": [
        "rf_model.set_params(**gs.best_params_)"
      ],
      "execution_count": 0,
      "outputs": [
        {
          "output_type": "execute_result",
          "data": {
            "text/plain": [
              "Pipeline(memory=None,\n",
              "         steps=[('preprocessor',\n",
              "                 ColumnTransformer(n_jobs=None, remainder='drop',\n",
              "                                   sparse_threshold=0.3,\n",
              "                                   transformer_weights=None,\n",
              "                                   transformers=[('num',\n",
              "                                                  Pipeline(memory=None,\n",
              "                                                           steps=[('imputer',\n",
              "                                                                   SimpleImputer(add_indicator=False,\n",
              "                                                                                 copy=True,\n",
              "                                                                                 fill_value=None,\n",
              "                                                                                 missing_values=nan,\n",
              "                                                                                 strategy='median',\n",
              "                                                                                 verbose=0)),\n",
              "                                                                  ('scaler',\n",
              "                                                                   StandardScaler(copy=True,\n",
              "                                                                                  with_mean...\n",
              "                 RandomForestClassifier(bootstrap=True, class_weight='balanced',\n",
              "                                        criterion='gini', max_depth=15,\n",
              "                                        max_features='auto',\n",
              "                                        max_leaf_nodes=None,\n",
              "                                        min_impurity_decrease=0.0,\n",
              "                                        min_impurity_split=None,\n",
              "                                        min_samples_leaf=1, min_samples_split=5,\n",
              "                                        min_weight_fraction_leaf=0.0,\n",
              "                                        n_estimators=100, n_jobs=-1,\n",
              "                                        oob_score=False, random_state=None,\n",
              "                                        verbose=0, warm_start=False))],\n",
              "         verbose=False)"
            ]
          },
          "metadata": {
            "tags": []
          },
          "execution_count": 51
        }
      ]
    },
    {
      "cell_type": "code",
      "metadata": {
        "id": "Nwx7yd_Tsin9",
        "colab_type": "code",
        "colab": {}
      },
      "source": [
        "rf_model.fit(X_train, y_train)\n",
        "y_pred = rf_model.predict(X_test)"
      ],
      "execution_count": 0,
      "outputs": []
    },
    {
      "cell_type": "code",
      "metadata": {
        "id": "vhzpe76xsin_",
        "colab_type": "code",
        "outputId": "18000999-2db3-40a9-ce47-ddd402561c90",
        "colab": {
          "base_uri": "https://localhost:8080/",
          "height": 34
        }
      },
      "source": [
        "accuracy_score(y_test, y_pred)"
      ],
      "execution_count": 0,
      "outputs": [
        {
          "output_type": "execute_result",
          "data": {
            "text/plain": [
              "0.8925845147219194"
            ]
          },
          "metadata": {
            "tags": []
          },
          "execution_count": 53
        }
      ]
    },
    {
      "cell_type": "code",
      "metadata": {
        "id": "ebHwt5H2sioC",
        "colab_type": "code",
        "outputId": "066b9fd9-9209-434a-bab3-81147618c1b7",
        "colab": {
          "base_uri": "https://localhost:8080/",
          "height": 173
        }
      },
      "source": [
        "print(classification_report(y_test, y_pred))"
      ],
      "execution_count": 0,
      "outputs": [
        {
          "output_type": "stream",
          "text": [
            "              precision    recall  f1-score   support\n",
            "\n",
            "         0.0       0.93      0.95      0.94      9484\n",
            "         1.0       0.63      0.55      0.59      1520\n",
            "\n",
            "    accuracy                           0.89     11004\n",
            "   macro avg       0.78      0.75      0.76     11004\n",
            "weighted avg       0.89      0.89      0.89     11004\n",
            "\n"
          ],
          "name": "stdout"
        }
      ]
    },
    {
      "cell_type": "markdown",
      "metadata": {
        "id": "Uvv4kXZIsioE",
        "colab_type": "text"
      },
      "source": [
        "### Train an XGB model"
      ]
    },
    {
      "cell_type": "markdown",
      "metadata": {
        "id": "wHSxh4xvsioE",
        "colab_type": "text"
      },
      "source": [
        "Pipeline can work with any class compatible with scikit-learn, here we are using it with the XGBClassifier from xgboost for instance:"
      ]
    },
    {
      "cell_type": "code",
      "metadata": {
        "id": "hkHchLZnsioF",
        "colab_type": "code",
        "colab": {}
      },
      "source": [
        "from xgboost.sklearn import XGBClassifier\n",
        "\n",
        "# XGBoost\n",
        "xgb_model = Pipeline([(\"prepyrocessor\", preprocessor), \n",
        "                      # Add a scale_pos_weight to make it balanced\n",
        "                      (\"model\", XGBClassifier(scale_pos_weight=(1 - y.mean()), \n",
        "                                              n_jobs=-1))])"
      ],
      "execution_count": 0,
      "outputs": []
    },
    {
      "cell_type": "code",
      "metadata": {
        "id": "P5vl6eBqsioG",
        "colab_type": "code",
        "outputId": "0b7d5488-1684-42f8-a9b2-701ecb883606",
        "colab": {
          "base_uri": "https://localhost:8080/",
          "height": 573
        }
      },
      "source": [
        "gs = GridSearchCV(xgb_model, {\"model__max_depth\": [5, 10],\n",
        "                              \"model__min_child_weight\": [5, 10],\n",
        "                              \"model__n_estimators\": [25]},\n",
        "                  n_jobs=-1, cv=5, scoring=\"accuracy\")\n",
        "\n",
        "gs.fit(X_train, y_train)"
      ],
      "execution_count": 0,
      "outputs": [
        {
          "output_type": "stream",
          "text": [
            "/usr/local/lib/python3.6/dist-packages/joblib/externals/loky/process_executor.py:706: UserWarning: A worker stopped while some jobs were given to the executor. This can be caused by a too short worker timeout or by a memory leak.\n",
            "  \"timeout or by a memory leak.\", UserWarning\n"
          ],
          "name": "stderr"
        },
        {
          "output_type": "execute_result",
          "data": {
            "text/plain": [
              "GridSearchCV(cv=5, error_score='raise-deprecating',\n",
              "             estimator=Pipeline(memory=None,\n",
              "                                steps=[('prepyrocessor',\n",
              "                                        ColumnTransformer(n_jobs=None,\n",
              "                                                          remainder='drop',\n",
              "                                                          sparse_threshold=0.3,\n",
              "                                                          transformer_weights=None,\n",
              "                                                          transformers=[('num',\n",
              "                                                                         Pipeline(memory=None,\n",
              "                                                                                  steps=[('imputer',\n",
              "                                                                                          SimpleImputer(add_indicator=False,\n",
              "                                                                                                        copy=True,\n",
              "                                                                                                        fill_value=None,\n",
              "                                                                                                        missing_values=nan,\n",
              "                                                                                                        strategy='med...\n",
              "                                                      objective='binary:logistic',\n",
              "                                                      random_state=0,\n",
              "                                                      reg_alpha=0, reg_lambda=1,\n",
              "                                                      scale_pos_weight=0.8618480246475994,\n",
              "                                                      seed=None, silent=None,\n",
              "                                                      subsample=1,\n",
              "                                                      verbosity=1))],\n",
              "                                verbose=False),\n",
              "             iid='warn', n_jobs=-1,\n",
              "             param_grid={'model__max_depth': [5, 10],\n",
              "                         'model__min_child_weight': [5, 10],\n",
              "                         'model__n_estimators': [25]},\n",
              "             pre_dispatch='2*n_jobs', refit=True, return_train_score=False,\n",
              "             scoring='accuracy', verbose=0)"
            ]
          },
          "metadata": {
            "tags": []
          },
          "execution_count": 56
        }
      ]
    },
    {
      "cell_type": "markdown",
      "metadata": {
        "id": "8mxoBWjqsioH",
        "colab_type": "text"
      },
      "source": [
        "Let's see our best parameters and score."
      ]
    },
    {
      "cell_type": "code",
      "metadata": {
        "id": "BIAgvveQsioI",
        "colab_type": "code",
        "outputId": "486c8d40-6f6b-49f9-c42d-902d1e6c6786",
        "colab": {
          "base_uri": "https://localhost:8080/",
          "height": 518
        }
      },
      "source": [
        "print(gs.best_params_)\n",
        "print(gs.best_score_)\n",
        "xgb_model.set_params(**gs.best_params_)\n",
        "xgb_model.fit(X_train, y_train)"
      ],
      "execution_count": 0,
      "outputs": [
        {
          "output_type": "stream",
          "text": [
            "{'model__max_depth': 10, 'model__min_child_weight': 10, 'model__n_estimators': 25}\n",
            "0.8979083083395006\n"
          ],
          "name": "stdout"
        },
        {
          "output_type": "execute_result",
          "data": {
            "text/plain": [
              "Pipeline(memory=None,\n",
              "         steps=[('prepyrocessor',\n",
              "                 ColumnTransformer(n_jobs=None, remainder='drop',\n",
              "                                   sparse_threshold=0.3,\n",
              "                                   transformer_weights=None,\n",
              "                                   transformers=[('num',\n",
              "                                                  Pipeline(memory=None,\n",
              "                                                           steps=[('imputer',\n",
              "                                                                   SimpleImputer(add_indicator=False,\n",
              "                                                                                 copy=True,\n",
              "                                                                                 fill_value=None,\n",
              "                                                                                 missing_values=nan,\n",
              "                                                                                 strategy='median',\n",
              "                                                                                 verbose=0)),\n",
              "                                                                  ('scaler',\n",
              "                                                                   StandardScaler(copy=True,\n",
              "                                                                                  with_mea...\n",
              "                               colsample_bylevel=1, colsample_bynode=1,\n",
              "                               colsample_bytree=1, gamma=0, learning_rate=0.1,\n",
              "                               max_delta_step=0, max_depth=10,\n",
              "                               min_child_weight=10, missing=None,\n",
              "                               n_estimators=25, n_jobs=-1, nthread=None,\n",
              "                               objective='binary:logistic', random_state=0,\n",
              "                               reg_alpha=0, reg_lambda=1,\n",
              "                               scale_pos_weight=0.8618480246475994, seed=None,\n",
              "                               silent=None, subsample=1, verbosity=1))],\n",
              "         verbose=False)"
            ]
          },
          "metadata": {
            "tags": []
          },
          "execution_count": 57
        }
      ]
    },
    {
      "cell_type": "markdown",
      "metadata": {
        "id": "UplDuCgRsioL",
        "colab_type": "text"
      },
      "source": [
        "Generate predictions"
      ]
    },
    {
      "cell_type": "code",
      "metadata": {
        "id": "Aeq8NTCgsioL",
        "colab_type": "code",
        "colab": {}
      },
      "source": [
        "y_pred = xgb_model.predict(X_test)"
      ],
      "execution_count": 0,
      "outputs": []
    },
    {
      "cell_type": "code",
      "metadata": {
        "id": "qFR72sw-sioN",
        "colab_type": "code",
        "outputId": "b4f60a23-e88a-4e1c-9696-47418c752472",
        "colab": {
          "base_uri": "https://localhost:8080/",
          "height": 34
        }
      },
      "source": [
        "accuracy_score(y_test, y_pred)"
      ],
      "execution_count": 0,
      "outputs": [
        {
          "output_type": "execute_result",
          "data": {
            "text/plain": [
              "0.8962195565249"
            ]
          },
          "metadata": {
            "tags": []
          },
          "execution_count": 59
        }
      ]
    },
    {
      "cell_type": "code",
      "metadata": {
        "id": "SQyklqZGsioO",
        "colab_type": "code",
        "outputId": "6e2c95bb-21c8-4b6c-da97-79ffaa837cfc",
        "colab": {
          "base_uri": "https://localhost:8080/",
          "height": 173
        }
      },
      "source": [
        "print(classification_report(y_test, y_pred))"
      ],
      "execution_count": 0,
      "outputs": [
        {
          "output_type": "stream",
          "text": [
            "              precision    recall  f1-score   support\n",
            "\n",
            "         0.0       0.91      0.97      0.94      9484\n",
            "         1.0       0.72      0.41      0.52      1520\n",
            "\n",
            "    accuracy                           0.90     11004\n",
            "   macro avg       0.81      0.69      0.73     11004\n",
            "weighted avg       0.88      0.90      0.88     11004\n",
            "\n"
          ],
          "name": "stdout"
        }
      ]
    },
    {
      "cell_type": "code",
      "metadata": {
        "id": "dBIdyRl1x5iZ",
        "colab_type": "code",
        "colab": {}
      },
      "source": [
        "# LGBm\n",
        "lgb_model = Pipeline([(\"preprocessor\", preprocessor), \n",
        "                      (\"model\",  LGBMClassifier(n_estimators=40))])"
      ],
      "execution_count": 0,
      "outputs": []
    },
    {
      "cell_type": "code",
      "metadata": {
        "id": "HbLJIOACus98",
        "colab_type": "code",
        "outputId": "10967920-959d-4848-a6b5-0064fb1ab4d4",
        "colab": {
          "base_uri": "https://localhost:8080/",
          "height": 536
        }
      },
      "source": [
        "param_dist = {\"model__max_depth\": [5, 10],\n",
        "              \"model__min_child_weight\": [5, 10],\n",
        "              \"model__n_estimators\": [25]\n",
        "              }\n",
        "gs = GridSearchCV(lgb_model, n_jobs=-1, param_grid=param_dist, cv = 3, scoring=\"roc_auc\", )\n",
        "\n",
        "\n",
        "gs.fit(X_train, y_train)"
      ],
      "execution_count": 0,
      "outputs": [
        {
          "output_type": "execute_result",
          "data": {
            "text/plain": [
              "GridSearchCV(cv=3, error_score='raise-deprecating',\n",
              "             estimator=Pipeline(memory=None,\n",
              "                                steps=[('preprocessor',\n",
              "                                        ColumnTransformer(n_jobs=None,\n",
              "                                                          remainder='drop',\n",
              "                                                          sparse_threshold=0.3,\n",
              "                                                          transformer_weights=None,\n",
              "                                                          transformers=[('num',\n",
              "                                                                         Pipeline(memory=None,\n",
              "                                                                                  steps=[('imputer',\n",
              "                                                                                          SimpleImputer(add_indicator=False,\n",
              "                                                                                                        copy=True,\n",
              "                                                                                                        fill_value=None,\n",
              "                                                                                                        missing_values=nan,\n",
              "                                                                                                        strategy='medi...\n",
              "                                                       objective=None,\n",
              "                                                       random_state=None,\n",
              "                                                       reg_alpha=0.0,\n",
              "                                                       reg_lambda=0.0,\n",
              "                                                       silent=True,\n",
              "                                                       subsample=1.0,\n",
              "                                                       subsample_for_bin=200000,\n",
              "                                                       subsample_freq=0))],\n",
              "                                verbose=False),\n",
              "             iid='warn', n_jobs=-1,\n",
              "             param_grid={'model__max_depth': [5, 10],\n",
              "                         'model__min_child_weight': [5, 10],\n",
              "                         'model__n_estimators': [25]},\n",
              "             pre_dispatch='2*n_jobs', refit=True, return_train_score=False,\n",
              "             scoring='roc_auc', verbose=0)"
            ]
          },
          "metadata": {
            "tags": []
          },
          "execution_count": 62
        }
      ]
    },
    {
      "cell_type": "code",
      "metadata": {
        "id": "10VA76mv-ZX1",
        "colab_type": "code",
        "outputId": "95d57739-4b25-44fb-b026-2335f4c17c4b",
        "colab": {
          "base_uri": "https://localhost:8080/",
          "height": 518
        }
      },
      "source": [
        "print(gs.best_params_)\n",
        "print(gs.best_score_)\n",
        "lgb_model.set_params(**gs.best_params_)\n",
        "lgb_model.fit(X_train, y_train)"
      ],
      "execution_count": 0,
      "outputs": [
        {
          "output_type": "stream",
          "text": [
            "{'model__max_depth': 10, 'model__min_child_weight': 10, 'model__n_estimators': 25}\n",
            "0.8819311182121538\n"
          ],
          "name": "stdout"
        },
        {
          "output_type": "execute_result",
          "data": {
            "text/plain": [
              "Pipeline(memory=None,\n",
              "         steps=[('preprocessor',\n",
              "                 ColumnTransformer(n_jobs=None, remainder='drop',\n",
              "                                   sparse_threshold=0.3,\n",
              "                                   transformer_weights=None,\n",
              "                                   transformers=[('num',\n",
              "                                                  Pipeline(memory=None,\n",
              "                                                           steps=[('imputer',\n",
              "                                                                   SimpleImputer(add_indicator=False,\n",
              "                                                                                 copy=True,\n",
              "                                                                                 fill_value=None,\n",
              "                                                                                 missing_values=nan,\n",
              "                                                                                 strategy='median',\n",
              "                                                                                 verbose=0)),\n",
              "                                                                  ('scaler',\n",
              "                                                                   StandardScaler(copy=True,\n",
              "                                                                                  with_mean...\n",
              "                 LGBMClassifier(boosting_type='gbdt', class_weight=None,\n",
              "                                colsample_bytree=1.0, importance_type='split',\n",
              "                                learning_rate=0.1, max_depth=10,\n",
              "                                min_child_samples=20, min_child_weight=10,\n",
              "                                min_split_gain=0.0, n_estimators=25, n_jobs=-1,\n",
              "                                num_leaves=31, objective=None,\n",
              "                                random_state=None, reg_alpha=0.0,\n",
              "                                reg_lambda=0.0, silent=True, subsample=1.0,\n",
              "                                subsample_for_bin=200000, subsample_freq=0))],\n",
              "         verbose=False)"
            ]
          },
          "metadata": {
            "tags": []
          },
          "execution_count": 63
        }
      ]
    },
    {
      "cell_type": "code",
      "metadata": {
        "id": "NWndnI8Cwh60",
        "colab_type": "code",
        "colab": {}
      },
      "source": [
        "y_pred = lgb_model.predict(X_test)"
      ],
      "execution_count": 0,
      "outputs": []
    },
    {
      "cell_type": "code",
      "metadata": {
        "id": "P38h1Ho5wxo4",
        "colab_type": "code",
        "outputId": "07ef2f8e-ecec-49f0-899b-e92d38f8cb50",
        "colab": {
          "base_uri": "https://localhost:8080/",
          "height": 34
        }
      },
      "source": [
        "accuracy_score(y_test, y_pred)"
      ],
      "execution_count": 0,
      "outputs": [
        {
          "output_type": "execute_result",
          "data": {
            "text/plain": [
              "0.8956743002544529"
            ]
          },
          "metadata": {
            "tags": []
          },
          "execution_count": 65
        }
      ]
    },
    {
      "cell_type": "code",
      "metadata": {
        "id": "n57BbYYc-qcv",
        "colab_type": "code",
        "outputId": "3b1dbde1-951a-499b-8e15-ac132e513bf3",
        "colab": {
          "base_uri": "https://localhost:8080/",
          "height": 173
        }
      },
      "source": [
        "print(classification_report(y_test, y_pred))"
      ],
      "execution_count": 0,
      "outputs": [
        {
          "output_type": "stream",
          "text": [
            "              precision    recall  f1-score   support\n",
            "\n",
            "         0.0       0.91      0.97      0.94      9484\n",
            "         1.0       0.71      0.41      0.52      1520\n",
            "\n",
            "    accuracy                           0.90     11004\n",
            "   macro avg       0.81      0.69      0.73     11004\n",
            "weighted avg       0.88      0.90      0.88     11004\n",
            "\n"
          ],
          "name": "stdout"
        }
      ]
    },
    {
      "cell_type": "code",
      "metadata": {
        "id": "YA98zNRk_C3J",
        "colab_type": "code",
        "outputId": "d9341bad-8bc5-42e1-ed1c-4f185c4ee816",
        "colab": {
          "base_uri": "https://localhost:8080/",
          "height": 34
        }
      },
      "source": [
        "from sklearn import metrics\n",
        "\n",
        "def auc2(m, train, test): \n",
        "    return (metrics.roc_auc_score(y_train,m.predict(train)),\n",
        "                            metrics.roc_auc_score(y_test,m.predict(test)))\n",
        "  \n",
        "  \n",
        "\n",
        "auc2(lgb_model, X_train,X_test)"
      ],
      "execution_count": 0,
      "outputs": [
        {
          "output_type": "execute_result",
          "data": {
            "text/plain": [
              "(0.7258502263773099, 0.6922538513618505)"
            ]
          },
          "metadata": {
            "tags": []
          },
          "execution_count": 67
        }
      ]
    },
    {
      "cell_type": "code",
      "metadata": {
        "id": "Z7OEMnr_wxra",
        "colab_type": "code",
        "colab": {}
      },
      "source": [
        "# catboost\n",
        "catb_model = Pipeline([(\"preprocessor\", preprocessor), \n",
        "                      # Add a scale_pos_weight to make it balanced\n",
        "                      (\"model\",  CatBoostClassifier(iterations =100, learning_rate = 0.03,eval_metric='AUC') )])\n"
      ],
      "execution_count": 0,
      "outputs": []
    },
    {
      "cell_type": "code",
      "metadata": {
        "id": "nFDQJ7qdwxt-",
        "colab_type": "code",
        "outputId": "5588a5cb-a2a0-4770-e50f-81f5b4313806",
        "colab": {
          "base_uri": "https://localhost:8080/",
          "height": 1000
        }
      },
      "source": [
        "catb_model.fit(X_train, y_train)"
      ],
      "execution_count": 0,
      "outputs": [
        {
          "output_type": "stream",
          "text": [
            "0:\ttotal: 91.1ms\tremaining: 9.02s\n",
            "1:\ttotal: 120ms\tremaining: 5.87s\n",
            "2:\ttotal: 145ms\tremaining: 4.69s\n",
            "3:\ttotal: 170ms\tremaining: 4.08s\n",
            "4:\ttotal: 196ms\tremaining: 3.71s\n",
            "5:\ttotal: 222ms\tremaining: 3.47s\n",
            "6:\ttotal: 244ms\tremaining: 3.25s\n",
            "7:\ttotal: 269ms\tremaining: 3.09s\n",
            "8:\ttotal: 298ms\tremaining: 3.01s\n",
            "9:\ttotal: 324ms\tremaining: 2.92s\n",
            "10:\ttotal: 349ms\tremaining: 2.83s\n",
            "11:\ttotal: 375ms\tremaining: 2.75s\n",
            "12:\ttotal: 402ms\tremaining: 2.69s\n",
            "13:\ttotal: 426ms\tremaining: 2.62s\n",
            "14:\ttotal: 451ms\tremaining: 2.56s\n",
            "15:\ttotal: 476ms\tremaining: 2.5s\n",
            "16:\ttotal: 505ms\tremaining: 2.47s\n",
            "17:\ttotal: 534ms\tremaining: 2.43s\n",
            "18:\ttotal: 559ms\tremaining: 2.38s\n",
            "19:\ttotal: 596ms\tremaining: 2.38s\n",
            "20:\ttotal: 621ms\tremaining: 2.34s\n",
            "21:\ttotal: 647ms\tremaining: 2.29s\n",
            "22:\ttotal: 671ms\tremaining: 2.25s\n",
            "23:\ttotal: 696ms\tremaining: 2.2s\n",
            "24:\ttotal: 730ms\tremaining: 2.19s\n",
            "25:\ttotal: 758ms\tremaining: 2.16s\n",
            "26:\ttotal: 788ms\tremaining: 2.13s\n",
            "27:\ttotal: 814ms\tremaining: 2.09s\n",
            "28:\ttotal: 838ms\tremaining: 2.05s\n",
            "29:\ttotal: 862ms\tremaining: 2.01s\n",
            "30:\ttotal: 887ms\tremaining: 1.97s\n",
            "31:\ttotal: 914ms\tremaining: 1.94s\n",
            "32:\ttotal: 944ms\tremaining: 1.92s\n",
            "33:\ttotal: 970ms\tremaining: 1.88s\n",
            "34:\ttotal: 995ms\tremaining: 1.85s\n",
            "35:\ttotal: 1.02s\tremaining: 1.82s\n",
            "36:\ttotal: 1.05s\tremaining: 1.78s\n",
            "37:\ttotal: 1.07s\tremaining: 1.75s\n",
            "38:\ttotal: 1.1s\tremaining: 1.72s\n",
            "39:\ttotal: 1.12s\tremaining: 1.69s\n",
            "40:\ttotal: 1.16s\tremaining: 1.66s\n",
            "41:\ttotal: 1.18s\tremaining: 1.63s\n",
            "42:\ttotal: 1.21s\tremaining: 1.6s\n",
            "43:\ttotal: 1.23s\tremaining: 1.57s\n",
            "44:\ttotal: 1.26s\tremaining: 1.54s\n",
            "45:\ttotal: 1.29s\tremaining: 1.51s\n",
            "46:\ttotal: 1.31s\tremaining: 1.48s\n",
            "47:\ttotal: 1.34s\tremaining: 1.45s\n",
            "48:\ttotal: 1.37s\tremaining: 1.43s\n",
            "49:\ttotal: 1.4s\tremaining: 1.4s\n",
            "50:\ttotal: 1.43s\tremaining: 1.37s\n",
            "51:\ttotal: 1.45s\tremaining: 1.34s\n",
            "52:\ttotal: 1.48s\tremaining: 1.31s\n",
            "53:\ttotal: 1.51s\tremaining: 1.28s\n",
            "54:\ttotal: 1.53s\tremaining: 1.25s\n",
            "55:\ttotal: 1.56s\tremaining: 1.22s\n",
            "56:\ttotal: 1.59s\tremaining: 1.2s\n",
            "57:\ttotal: 1.62s\tremaining: 1.17s\n",
            "58:\ttotal: 1.65s\tremaining: 1.15s\n",
            "59:\ttotal: 1.68s\tremaining: 1.12s\n",
            "60:\ttotal: 1.71s\tremaining: 1.09s\n",
            "61:\ttotal: 1.73s\tremaining: 1.06s\n",
            "62:\ttotal: 1.76s\tremaining: 1.03s\n",
            "63:\ttotal: 1.79s\tremaining: 1s\n",
            "64:\ttotal: 1.82s\tremaining: 982ms\n",
            "65:\ttotal: 1.85s\tremaining: 952ms\n",
            "66:\ttotal: 1.87s\tremaining: 923ms\n",
            "67:\ttotal: 1.9s\tremaining: 895ms\n",
            "68:\ttotal: 1.93s\tremaining: 866ms\n",
            "69:\ttotal: 1.96s\tremaining: 838ms\n",
            "70:\ttotal: 1.98s\tremaining: 809ms\n",
            "71:\ttotal: 2.01s\tremaining: 782ms\n",
            "72:\ttotal: 2.04s\tremaining: 755ms\n",
            "73:\ttotal: 2.07s\tremaining: 727ms\n",
            "74:\ttotal: 2.09s\tremaining: 698ms\n",
            "75:\ttotal: 2.12s\tremaining: 669ms\n",
            "76:\ttotal: 2.15s\tremaining: 642ms\n",
            "77:\ttotal: 2.17s\tremaining: 613ms\n",
            "78:\ttotal: 2.2s\tremaining: 585ms\n",
            "79:\ttotal: 2.22s\tremaining: 556ms\n",
            "80:\ttotal: 2.25s\tremaining: 528ms\n",
            "81:\ttotal: 2.27s\tremaining: 500ms\n",
            "82:\ttotal: 2.3s\tremaining: 471ms\n",
            "83:\ttotal: 2.33s\tremaining: 444ms\n",
            "84:\ttotal: 2.36s\tremaining: 416ms\n",
            "85:\ttotal: 2.38s\tremaining: 388ms\n",
            "86:\ttotal: 2.41s\tremaining: 360ms\n",
            "87:\ttotal: 2.44s\tremaining: 332ms\n",
            "88:\ttotal: 2.46s\tremaining: 304ms\n",
            "89:\ttotal: 2.49s\tremaining: 277ms\n",
            "90:\ttotal: 2.52s\tremaining: 249ms\n",
            "91:\ttotal: 2.54s\tremaining: 221ms\n",
            "92:\ttotal: 2.57s\tremaining: 193ms\n",
            "93:\ttotal: 2.59s\tremaining: 166ms\n",
            "94:\ttotal: 2.62s\tremaining: 138ms\n",
            "95:\ttotal: 2.64s\tremaining: 110ms\n",
            "96:\ttotal: 2.67s\tremaining: 82.6ms\n",
            "97:\ttotal: 2.7s\tremaining: 55.1ms\n",
            "98:\ttotal: 2.73s\tremaining: 27.5ms\n",
            "99:\ttotal: 2.75s\tremaining: 0us\n"
          ],
          "name": "stdout"
        },
        {
          "output_type": "execute_result",
          "data": {
            "text/plain": [
              "Pipeline(memory=None,\n",
              "         steps=[('preprocessor',\n",
              "                 ColumnTransformer(n_jobs=None, remainder='drop',\n",
              "                                   sparse_threshold=0.3,\n",
              "                                   transformer_weights=None,\n",
              "                                   transformers=[('num',\n",
              "                                                  Pipeline(memory=None,\n",
              "                                                           steps=[('imputer',\n",
              "                                                                   SimpleImputer(add_indicator=False,\n",
              "                                                                                 copy=True,\n",
              "                                                                                 fill_value=None,\n",
              "                                                                                 missing_values=nan,\n",
              "                                                                                 strategy='median',\n",
              "                                                                                 verbose=0)),\n",
              "                                                                  ('scaler',\n",
              "                                                                   StandardScaler(copy=True,\n",
              "                                                                                  with_mean...\n",
              "                                                  ['orientation_economique',\n",
              "                                                   'seg_croissance_pop',\n",
              "                                                   'urbanite_ruralite',\n",
              "                                                   'dynamique_demographique_bv',\n",
              "                                                   'seg_environnement_demographique_obsolete',\n",
              "                                                   'environnement_demographique',\n",
              "                                                   'syn_medical',\n",
              "                                                   'seg_cap_fiscale',\n",
              "                                                   'seg_dyn_entre', 'dyn_setc',\n",
              "                                                   'score_equipement_de_sante_bv'])],\n",
              "                                   verbose=False)),\n",
              "                ('model',\n",
              "                 <catboost.core.CatBoostClassifier object at 0x7fbf67b0f940>)],\n",
              "         verbose=False)"
            ]
          },
          "metadata": {
            "tags": []
          },
          "execution_count": 69
        }
      ]
    },
    {
      "cell_type": "code",
      "metadata": {
        "id": "v_yXbIXq4tnH",
        "colab_type": "code",
        "colab": {}
      },
      "source": [
        "y_pred = catb_model.predict(X_test)"
      ],
      "execution_count": 0,
      "outputs": []
    },
    {
      "cell_type": "code",
      "metadata": {
        "id": "p5rwmgqW4z1d",
        "colab_type": "code",
        "outputId": "9c066741-279c-466a-afed-4cbc41e718fd",
        "colab": {
          "base_uri": "https://localhost:8080/",
          "height": 34
        }
      },
      "source": [
        "accuracy_score(y_test, y_pred)"
      ],
      "execution_count": 0,
      "outputs": [
        {
          "output_type": "execute_result",
          "data": {
            "text/plain": [
              "0.8943111595783352"
            ]
          },
          "metadata": {
            "tags": []
          },
          "execution_count": 71
        }
      ]
    },
    {
      "cell_type": "code",
      "metadata": {
        "id": "AlvpZlZw43yt",
        "colab_type": "code",
        "colab": {}
      },
      "source": [
        ""
      ],
      "execution_count": 0,
      "outputs": []
    },
    {
      "cell_type": "code",
      "metadata": {
        "id": "_LYxfvdX6YEG",
        "colab_type": "code",
        "colab": {}
      },
      "source": [
        ""
      ],
      "execution_count": 0,
      "outputs": []
    }
  ]
}